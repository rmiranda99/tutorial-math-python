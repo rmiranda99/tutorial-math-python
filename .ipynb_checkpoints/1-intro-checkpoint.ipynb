{
 "cells": [
  {
   "cell_type": "markdown",
   "id": "a5bc1c3c",
   "metadata": {},
   "source": [
    "# Tutorial rápido de Python para Matemáticos\n",
    "\n",
    "&copy; Ricardo Miranda Martins, 2022 - http://www.ime.unicamp.br/~rmiranda/\n",
    "\n",
    "## Índice\n",
    "\n",
    "1. **[Introdução](1-intro.html)**\n",
    "2. [Python é uma boa calculadora!](2-calculadora.html) [(código fonte)](2-calculadora.ipynb)\n",
    "3. [Resolvendo equações](3-resolvendo-eqs.html)  [(código fonte)](3-resolvendo-eqs.ipynb)\n",
    "4. [Gráficos](4-graficos.html)  [(código fonte)](4-graficos.ipynb)\n",
    "5. [Sistemas lineares e matrizes](5-lineares-e-matrizes.html)  [(código fonte)](5-lineares-e-matrizes.ipynb)\n",
    "6. [Limites, derivadas e integrais](6-limites-derivadas-integrais.html)  [(código fonte)](6-limites-derivadas-integrais.ipynb)\n",
    "7. [Equações direrenciais](7-equacoes-diferenciais.html)  [(código fonte)](7-equacoes-diferenciais.ipynb)\n",
    "\n",
    "\n",
    "\n",
    "# O que tem aqui?\n",
    "\n",
    "Aqui está um caminho rápido para aprender a usar Python para fazer cálculos matemáticos. Se você não sabe programar, esse site é para você. Aqui, seremos duas pessoas que não sabem programar tentando aprender alguma coisa.\n",
    "\n",
    "Você vai aprender a resolver equações, inverter matrizes, fazer gráficos, resolver equações diferenciais.. o foco não é em detalhes das sintaxes dos comandos. Afinal, é para isso que você paga internet, certo? Ok - vou ser bonzinho e mesmo assim colocar alguns exemplos de coisas simples, usando ```if```, ```for```, etc.\n",
    "\n",
    "O objetivo aqui é ser um guia estilo mão-na-massa ou copie-cole-e-altere.\n",
    "\n",
    "Se você está meio perdido: para usar o Python, eu recomendo que você use o Jupyter. Vá em https://jupyter.org/try e inicie um JupyterLab. Quando aparecer a tela de seleção, escolha Python na aba \"Notebook\". Outra opção é usar o Google Colab, [clicando aqui](https://colab.research.google.com), que também é bem intuitivo. A melhor opção mesmo é você instalá-lo em seu computador, usando o [Anaconda](https://www.anaconda.com/).\n",
    "\n",
    "A maioria dos códigos desse tutorial não foram feitos por mim, mas adaptados de códigos encontrados no StackOverFlow, StackExchange, etc. Sempre que ainda tiver o link pro código original, vou indicar, ou então veja os sites da bibliografia que tem muita coisa que foi adaptada deles.\n",
    "\n",
    "Chega de blá-blá-blá e vamos lá!\n",
    "\n",
    "Se preferir, [clique aqui](completo.html) a versão em arquivo único, sem estar separada em vários arquivos.\n",
    "\n",
    "\n",
    "## Referências bibliográficas\n",
    "\n",
    "Alguns sites muito bons para aprender a usar *Python* com objetivo de fazer coisas de matemática:\n",
    "\n",
    "1. [Mathematical Python](https://personal.math.ubc.ca/~pwalls/math-python/), por Patrick Walls.\n",
    "2. [Dynamical systems with applications using Python](http://www.doc.mmu.ac.uk/STAFF/S.Lynch/DSAP_Jupyter_Notebook.html): site base do livro do [Stephen Lynch](http://www.doc.mmu.ac.uk/STAFF/S.Lynch/) de onde tirei/adaptei vários códigos que estão aqui.\n",
    "3. [SciPython](https://scipython.com/) \n",
    "4. [Problem Solving with Python](https://problemsolvingwithpython.com/)\n",
    "5. [SciPy Lecture Notes](https://scipy-lectures.org/index.html)\n",
    "6. [PythonForUndergradEngineers](https://pythonforundergradengineers.com/)\n",
    "7. [SciPy 2017 tutorial \"Automatic Code Generation with SymPy\"](https://www.sympy.org/scipy-2017-codegen-tutorial/notebooks/20-ordinary-differential-equations.html)\n",
    "\n",
    "\n",
    "## Mensagem legal e copyright\n",
    "\n",
    "Estas notas de aula estão regidas pela [Licença Pública Creative Commons Atribuição 4.0 Internacional](https://creativecommons.org/licenses/by/4.0/legalcode.pt). Veja um resumo do que você pode ou não fazer [clicando aqui](https://creativecommons.org/licenses/by/4.0/deed.pt_BR).\n",
    "\n"
   ]
  }
 ],
 "metadata": {
  "author": "Ricardo Miranda Martins",
  "kernelspec": {
   "display_name": "Python 3 (ipykernel)",
   "language": "python",
   "name": "python3"
  },
  "language_info": {
   "codemirror_mode": {
    "name": "ipython",
    "version": 3
   },
   "file_extension": ".py",
   "mimetype": "text/x-python",
   "name": "python",
   "nbconvert_exporter": "python",
   "pygments_lexer": "ipython3",
   "version": "3.9.7"
  },
  "title": "Tutorial rápido de Python para Matemáticos",
  "toc": {
   "base_numbering": 1,
   "nav_menu": {},
   "number_sections": true,
   "sideBar": true,
   "skip_h1_title": false,
   "title_cell": "Table of Contents",
   "title_sidebar": "Contents",
   "toc_cell": true,
   "toc_position": {},
   "toc_section_display": true,
   "toc_window_display": false
  }
 },
 "nbformat": 4,
 "nbformat_minor": 5
}
