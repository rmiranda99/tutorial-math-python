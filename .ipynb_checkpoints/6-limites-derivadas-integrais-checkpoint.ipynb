{
 "cells": [
  {
   "cell_type": "markdown",
   "id": "66e47329",
   "metadata": {},
   "source": [
    "# Tutorial rápido de Python para Matemáticos\n",
    "\n",
    "&copy; Ricardo Miranda Martins, 2022 - http://www.ime.unicamp.br/~rmiranda/\n",
    "\n",
    "## Índice\n",
    "\n",
    "1. [Introdução](1-intro.html) \n",
    "2. [Python é uma boa calculadora!](2-calculadora.html) [(código fonte)](2-calculadora.ipynb)\n",
    "3. [Resolvendo equações](3-resolvendo-eqs.html)  [(código fonte)](3-resolvendo-eqs.ipynb)\n",
    "4. [Gráficos](4-graficos.html)  [(código fonte)](4-graficos.ipynb)\n",
    "5. [Sistemas lineares e matrizes](5-lineares-e-matrizes.html)  [(código fonte)](5-lineares-e-matrizes.ipynb)\n",
    "6. **[Limites, derivadas e integrais](6-limites-derivadas-integrais.html)** [(código fonte)](6-limites-derivadas-integrais.ipynb)\n",
    "7. [Equações direrenciais](7-equacoes-diferenciais.html) [(código fonte)](7-equacoes-diferenciais.ipynb)\n",
    "\n"
   ]
  },
  {
   "cell_type": "markdown",
   "id": "555c9c5b",
   "metadata": {},
   "source": [
    "# Limites\n",
    "\n",
    "Conhece aquela famosa piadinha? \"Tudo tem limites, menos $1/x$ com $x\\rightarrow 0$.\" Matemáticos tem um senso de humor bem peculiar.\n",
    "\n",
    "O Python sabe muito bem trabalhar com limites, graças ao pacote SymPy. Não é nada recomendável calcular limites fazendo \"tabelinhas\" ou \"aproximações\", então o pacote de cálculo simbólico é o ideal.\n",
    "\n",
    "Para calcular $$\\lim_{x\\rightarrow a} f(x)$$ o comando é ```sp.limit(f,x,a)```. A variável $x$ precisa anter ser definida."
   ]
  },
  {
   "cell_type": "code",
   "execution_count": 86,
   "id": "ccb2a429",
   "metadata": {},
   "outputs": [
    {
     "data": {
      "image/png": "[encoded data removed]",
      "text/latex": [
       "$\\displaystyle 4$"
      ],
      "text/plain": [
       "4"
      ]
     },
     "execution_count": 86,
     "metadata": {},
     "output_type": "execute_result"
    }
   ],
   "source": [
    "import sympy as sp\n",
    "x = sp.symbols('x')\n",
    "sp.limit(x**2,x,2)"
   ]
  },
  {
   "cell_type": "markdown",
   "id": "5a097be4",
   "metadata": {},
   "source": [
    "Bom, não vamos ficar usando o Python para calcular limites que sabemos calcular de cabeça, só substituindo os valores né? Vamos a alguns mais complicados. Por exemplo, que tal calcular $$\\lim_{x\\rightarrow 0} \\dfrac{\\sin(x)}{x}?$$"
   ]
  },
  {
   "cell_type": "code",
   "execution_count": 87,
   "id": "ddd1718a",
   "metadata": {},
   "outputs": [
    {
     "data": {
      "image/png": "[encoded data removed]",
      "text/latex": [
       "$\\displaystyle 1$"
      ],
      "text/plain": [
       "1"
      ]
     },
     "execution_count": 87,
     "metadata": {},
     "output_type": "execute_result"
    }
   ],
   "source": [
    "sp.limit(sp.sin(x)/x,x,0)"
   ]
  },
  {
   "cell_type": "markdown",
   "id": "9831bb5f",
   "metadata": {},
   "source": [
    "Isso significa que as funções $f(x)=\\sin(x)$ e $g(x)=x$ são muito parecidas, para valores pequenos de $x$. Vamos fazer um gráfico para conferir isso:"
   ]
  },
  {
   "cell_type": "code",
   "execution_count": 88,
   "id": "e614b112",
   "metadata": {},
   "outputs": [
    {
     "data": {
      "text/plain": [
       "[<matplotlib.lines.Line2D at 0x7f79dab1fdc0>]"
      ]
     },
     "execution_count": 88,
     "metadata": {},
     "output_type": "execute_result"
    },
    {
     "data": {
      "image/png": "[encoded data removed]",
      "text/plain": [
       "<Figure size 432x288 with 1 Axes>"
      ]
     },
     "metadata": {
      "needs_background": "light"
     },
     "output_type": "display_data"
    }
   ],
   "source": [
    "import numpy as np\n",
    "import matplotlib.pyplot as plt\n",
    "x = np.linspace(-0.5, 0.5, 100)\n",
    "y = np.sin(x)\n",
    "plt.plot(x, y)\n",
    "plt.plot(x, x)"
   ]
  },
  {
   "cell_type": "markdown",
   "id": "9e4904b5",
   "metadata": {},
   "source": [
    "E os limites que não existem? Também podem ser calculados!"
   ]
  },
  {
   "cell_type": "code",
   "execution_count": 89,
   "id": "901d90f6",
   "metadata": {},
   "outputs": [
    {
     "data": {
      "image/png": "[encoded data removed]",
      "text/latex": [
       "$\\displaystyle \\infty$"
      ],
      "text/plain": [
       "oo"
      ]
     },
     "execution_count": 89,
     "metadata": {},
     "output_type": "execute_result"
    }
   ],
   "source": [
    "import sympy as sp\n",
    "x = sp.symbols('x')\n",
    "sp.limit(1/(x-2),x,2)"
   ]
  },
  {
   "cell_type": "markdown",
   "id": "876dd56f",
   "metadata": {},
   "source": [
    "Podemos calcular também limites com $x\\rightarrow\\infty$. No SymPy, o símbolo para infinito é ```oo```, lembrando do prefixo ```sp```. Sugestivo, não?"
   ]
  },
  {
   "cell_type": "code",
   "execution_count": 90,
   "id": "0dcb6f2b",
   "metadata": {},
   "outputs": [
    {
     "data": {
      "image/png": "[encoded data removed]",
      "text/latex": [
       "$\\displaystyle 0$"
      ],
      "text/plain": [
       "0"
      ]
     },
     "execution_count": 90,
     "metadata": {},
     "output_type": "execute_result"
    }
   ],
   "source": [
    "sp.limit(1/x,x,sp.oo)"
   ]
  },
  {
   "cell_type": "markdown",
   "id": "799fd3d4",
   "metadata": {},
   "source": [
    "Podemos ainda calcular limites laterais no Python, usando os símboos ```+``` ou ```-``` no comando."
   ]
  },
  {
   "cell_type": "code",
   "execution_count": 91,
   "id": "38f38a7d",
   "metadata": {},
   "outputs": [
    {
     "data": {
      "image/png": "[encoded data removed]",
      "text/latex": [
       "$\\displaystyle \\infty$"
      ],
      "text/plain": [
       "oo"
      ]
     },
     "execution_count": 91,
     "metadata": {},
     "output_type": "execute_result"
    }
   ],
   "source": [
    "sp.limit(1/x, x, 0, '+')"
   ]
  },
  {
   "cell_type": "code",
   "execution_count": 92,
   "id": "7709b1c3",
   "metadata": {},
   "outputs": [
    {
     "data": {
      "image/png": "[encoded data removed]",
      "text/latex": [
       "$\\displaystyle -\\infty$"
      ],
      "text/plain": [
       "-oo"
      ]
     },
     "execution_count": 92,
     "metadata": {},
     "output_type": "execute_result"
    }
   ],
   "source": [
    "sp.limit(1/x, x, 0, '-')"
   ]
  },
  {
   "cell_type": "markdown",
   "id": "6fdeb125",
   "metadata": {},
   "source": [
    "Já vamos começar a falar sobre derivadas, mas podemos calculá-las pela definição, usando limites. Abaixo faremos um exemplo disso."
   ]
  },
  {
   "cell_type": "code",
   "execution_count": 93,
   "id": "199c157f",
   "metadata": {},
   "outputs": [
    {
     "data": {
      "image/png": "[encoded data removed]",
      "text/latex": [
       "$\\displaystyle 2 x$"
      ],
      "text/plain": [
       "2*x"
      ]
     },
     "execution_count": 93,
     "metadata": {},
     "output_type": "execute_result"
    }
   ],
   "source": [
    "import sympy as sp\n",
    "x, h = sp.symbols('x h', real=True)\n",
    "f=x**2\n",
    "fh=f.subs(x,x+h)\n",
    "sp.limit( (fh-f)/h , h, 0)"
   ]
  },
  {
   "cell_type": "markdown",
   "id": "3fcc7711",
   "metadata": {},
   "source": [
    "O Python trabalha muito bem com funções definidas por partes. Abaixo fazemos um exemplo disso."
   ]
  },
  {
   "cell_type": "code",
   "execution_count": 94,
   "id": "3c63827d",
   "metadata": {},
   "outputs": [],
   "source": [
    "import sympy as sp\n",
    "x = sp.symbols('x', real=True)\n",
    "g=sp.Piecewise((x**2+1, x<1),(3*x, x>1))"
   ]
  },
  {
   "cell_type": "code",
   "execution_count": 95,
   "id": "4e23245a",
   "metadata": {},
   "outputs": [
    {
     "data": {
      "image/png": "[encoded data removed]",
      "text/latex": [
       "$\\displaystyle 2$"
      ],
      "text/plain": [
       "2"
      ]
     },
     "execution_count": 95,
     "metadata": {},
     "output_type": "execute_result"
    }
   ],
   "source": [
    "sp.limit(g,x,1,'-')"
   ]
  },
  {
   "cell_type": "code",
   "execution_count": 96,
   "id": "aed3060b",
   "metadata": {},
   "outputs": [
    {
     "data": {
      "image/png": "[encoded data removed]",
      "text/latex": [
       "$\\displaystyle 3$"
      ],
      "text/plain": [
       "3"
      ]
     },
     "execution_count": 96,
     "metadata": {},
     "output_type": "execute_result"
    }
   ],
   "source": [
    "sp.limit(g,x,1,'+')"
   ]
  },
  {
   "cell_type": "markdown",
   "id": "b8301eed",
   "metadata": {},
   "source": [
    "Aviso importante: o Python não é muito bom com funções definidas por partes, tome cuidado com os resultados."
   ]
  },
  {
   "cell_type": "markdown",
   "id": "442a3376",
   "metadata": {},
   "source": [
    "# Derivadas\n",
    "\n",
    "Se você já fez um curso de cálculo, deve ter percebido que derivação é um processo extremamente mecânico. Não é difícil implementar um \"derivador formal\". O Python calcula derivadas de funções de uma ou mais variáveis de forma muito eficiente. Novamente vamos usar o SymPy.\n",
    "\n",
    "Sem mais delongas vamos calcular a derivada de $f(x)=x^2+x$ com respeito à função $x$."
   ]
  },
  {
   "cell_type": "code",
   "execution_count": 97,
   "id": "78dbe589",
   "metadata": {},
   "outputs": [
    {
     "data": {
      "image/png": "[encoded data removed]",
      "text/latex": [
       "$\\displaystyle 2 x + 1$"
      ],
      "text/plain": [
       "2*x + 1"
      ]
     },
     "execution_count": 97,
     "metadata": {},
     "output_type": "execute_result"
    }
   ],
   "source": [
    "import sympy as sp\n",
    "x = sp.symbols('x')\n",
    "f=x**2+x\n",
    "sp.diff(f,x)"
   ]
  },
  {
   "cell_type": "markdown",
   "id": "9d3ba519",
   "metadata": {},
   "source": [
    "Foi rápido, né? A função pode ser muito mais complicada, como por exemplo $g(x)=e^{x^3+x}+1/x$."
   ]
  },
  {
   "cell_type": "code",
   "execution_count": 98,
   "id": "518e0cc5",
   "metadata": {},
   "outputs": [
    {
     "data": {
      "image/png": "[encoded data removed]",
      "text/latex": [
       "$\\displaystyle \\left(3 x^{2} + 1\\right) e^{x^{3} + x} - \\frac{1}{x^{2}}$"
      ],
      "text/plain": [
       "             3         \n",
       "/   2    \\  x  + x   1 \n",
       "\\3*x  + 1/*e       - --\n",
       "                      2\n",
       "                     x "
      ]
     },
     "execution_count": 98,
     "metadata": {},
     "output_type": "execute_result"
    }
   ],
   "source": [
    "g=sp.exp(x**3+x)+1/x\n",
    "sp.diff(g,x)"
   ]
  },
  {
   "cell_type": "markdown",
   "id": "4521e948",
   "metadata": {},
   "source": [
    "As funções podem ser de mais que uma variável:"
   ]
  },
  {
   "cell_type": "code",
   "execution_count": 99,
   "id": "08e40ab7",
   "metadata": {},
   "outputs": [],
   "source": [
    "y = sp.symbols('y')\n",
    "h=sp.cos(x*y)+(3*x+y)/(y**2+1)"
   ]
  },
  {
   "cell_type": "code",
   "execution_count": 100,
   "id": "5ea81f3e",
   "metadata": {},
   "outputs": [
    {
     "data": {
      "image/png": "[encoded data removed]",
      "text/latex": [
       "$\\displaystyle - y \\sin{\\left(x y \\right)} + \\frac{3}{y^{2} + 1}$"
      ],
      "text/plain": [
       "                3   \n",
       "-y*sin(x*y) + ------\n",
       "               2    \n",
       "              y  + 1"
      ]
     },
     "execution_count": 100,
     "metadata": {},
     "output_type": "execute_result"
    }
   ],
   "source": [
    "# derivada em x\n",
    "sp.diff(h,x)"
   ]
  },
  {
   "cell_type": "code",
   "execution_count": 101,
   "id": "5080e3a7",
   "metadata": {},
   "outputs": [
    {
     "data": {
      "image/png": "[encoded data removed]",
      "text/latex": [
       "$\\displaystyle - y \\sin{\\left(x y \\right)} + \\frac{3}{y^{2} + 1}$"
      ],
      "text/plain": [
       "                3   \n",
       "-y*sin(x*y) + ------\n",
       "               2    \n",
       "              y  + 1"
      ]
     },
     "execution_count": 101,
     "metadata": {},
     "output_type": "execute_result"
    }
   ],
   "source": [
    "# derivada em y\n",
    "sp.diff(h,x)"
   ]
  },
  {
   "cell_type": "code",
   "execution_count": 102,
   "id": "361a3248",
   "metadata": {},
   "outputs": [
    {
     "data": {
      "image/png": "[encoded data removed]",
      "text/latex": [
       "$\\displaystyle - (x y \\cos{\\left(x y \\right)} + \\frac{6 y}{\\left(y^{2} + 1\\right)^{2}} + \\sin{\\left(x y \\right)})$"
      ],
      "text/plain": [
       " /                  6*y              \\\n",
       "-|x*y*cos(x*y) + --------- + sin(x*y)|\n",
       " |                       2           |\n",
       " |               / 2    \\            |\n",
       " \\               \\y  + 1/            /"
      ]
     },
     "execution_count": 102,
     "metadata": {},
     "output_type": "execute_result"
    }
   ],
   "source": [
    "# derivada mista, em x depois em y\n",
    "sp.diff(h,x,y)"
   ]
  },
  {
   "cell_type": "markdown",
   "id": "00ea30e7",
   "metadata": {},
   "source": [
    "Claro que as derivadas de ordem superior também podem ser pedidas de forma iterada:"
   ]
  },
  {
   "cell_type": "code",
   "execution_count": 103,
   "id": "75f178cb",
   "metadata": {},
   "outputs": [
    {
     "data": {
      "image/png": "[encoded data removed]",
      "text/latex": [
       "$\\displaystyle - x y \\cos{\\left(x y \\right)} - \\frac{6 y}{\\left(y^{2} + 1\\right)^{2}} - \\sin{\\left(x y \\right)}$"
      ],
      "text/plain": [
       "                   6*y              \n",
       "-x*y*cos(x*y) - --------- - sin(x*y)\n",
       "                        2           \n",
       "                / 2    \\            \n",
       "                \\y  + 1/            "
      ]
     },
     "execution_count": 103,
     "metadata": {},
     "output_type": "execute_result"
    }
   ],
   "source": [
    "sp.diff(sp.diff(h,x),y)"
   ]
  },
  {
   "cell_type": "markdown",
   "id": "1643d755",
   "metadata": {},
   "source": [
    "Para derivadas de ordem superior, também é fácil. Abaixo calculamos a derivada de terceira ordem de $h(x,y)$ com respeito a $x$"
   ]
  },
  {
   "cell_type": "code",
   "execution_count": 104,
   "id": "881c938e",
   "metadata": {},
   "outputs": [
    {
     "data": {
      "image/png": "[encoded data removed]",
      "text/latex": [
       "$\\displaystyle y^{3} \\sin{\\left(x y \\right)}$"
      ],
      "text/plain": [
       " 3         \n",
       "y *sin(x*y)"
      ]
     },
     "execution_count": 104,
     "metadata": {},
     "output_type": "execute_result"
    }
   ],
   "source": [
    "sp.diff(h,x,x,x)"
   ]
  },
  {
   "cell_type": "markdown",
   "id": "dea69921",
   "metadata": {},
   "source": [
    "Se você quer a derivada em um ponto, pode usar o ```subs``` para avaliar a derivada nesse ponto:"
   ]
  },
  {
   "cell_type": "code",
   "execution_count": 105,
   "id": "da1de0ab",
   "metadata": {},
   "outputs": [
    {
     "data": {
      "image/png": "[encoded data removed]",
      "text/latex": [
       "$\\displaystyle 3$"
      ],
      "text/plain": [
       "3"
      ]
     },
     "execution_count": 105,
     "metadata": {},
     "output_type": "execute_result"
    }
   ],
   "source": [
    "sp.diff(h,x).subs(x,0).subs(y,0)"
   ]
  },
  {
   "cell_type": "markdown",
   "id": "5648136a",
   "metadata": {},
   "source": [
    "Claro que a função precisa estar definida no ponto, ou coisas podem dar errado.."
   ]
  },
  {
   "cell_type": "code",
   "execution_count": 106,
   "id": "3fea40d4",
   "metadata": {},
   "outputs": [
    {
     "data": {
      "image/png": "[encoded data removed]",
      "text/latex": [
       "$\\displaystyle \\tilde{\\infty}$"
      ],
      "text/plain": [
       "zoo"
      ]
     },
     "execution_count": 106,
     "metadata": {},
     "output_type": "execute_result"
    }
   ],
   "source": [
    "sp.diff(g,x).subs(x,0).subs(y,0)"
   ]
  },
  {
   "cell_type": "markdown",
   "id": "ab0f6e67",
   "metadata": {},
   "source": [
    "## Expansão em séries\n",
    "\n",
    "Uma importante aplicação das derivadas é o cálculo da expansão em série de Taylor. O SymPy tem dois comandos para isso, o ```fps``` e o ```series```. Vamos testá-los com a função $f(x)=x\\cos(x)$."
   ]
  },
  {
   "cell_type": "code",
   "execution_count": 107,
   "id": "2539b632",
   "metadata": {},
   "outputs": [],
   "source": [
    "import sympy as sp\n",
    "x = sp.symbols('x')\n",
    "f=x*sp.cos(x)"
   ]
  },
  {
   "cell_type": "code",
   "execution_count": 108,
   "id": "82996f5a",
   "metadata": {},
   "outputs": [
    {
     "data": {
      "image/png": "[encoded data removed]",
      "text/latex": [
       "$\\displaystyle x - \\frac{x^{3}}{2} + \\frac{x^{5}}{24} - \\frac{x^{7}}{720} + \\frac{x^{9}}{40320} + O\\left(x^{10}\\right)$"
      ],
      "text/plain": [
       "     3    5     7      9          \n",
       "    x    x     x      x      / 10\\\n",
       "x - -- + -- - --- + ----- + O\\x  /\n",
       "    2    24   720   40320         "
      ]
     },
     "metadata": {},
     "output_type": "display_data"
    }
   ],
   "source": [
    "# calculando a expansao formal de f em serie de potencias\n",
    "# com respeito aa variavel x, no ponto x=0, e truncando\n",
    "# em ordem 10 usando o fps\n",
    "fn=sp.fps(f,x,0).truncate(10)\n",
    "display(fn)"
   ]
  },
  {
   "cell_type": "code",
   "execution_count": 109,
   "id": "b0c5d853",
   "metadata": {},
   "outputs": [
    {
     "data": {
      "image/png": "[encoded data removed]",
      "text/latex": [
       "$\\displaystyle x - \\frac{x^{3}}{2} + \\frac{x^{5}}{24} - \\frac{x^{7}}{720} + \\frac{x^{9}}{40320} - \\frac{x^{11}}{3628800} + \\frac{x^{13}}{479001600} - \\frac{x^{15}}{87178291200} + \\frac{x^{17}}{20922789888000} - \\frac{x^{19}}{6402373705728000} + O\\left(x^{20}\\right)$"
      ],
      "text/plain": [
       "     3    5     7      9       11         13           15             17      \n",
       "    x    x     x      x       x          x            x              x        \n",
       "x - -- + -- - --- + ----- - ------- + --------- - ----------- + --------------\n",
       "    2    24   720   40320   3628800   479001600   87178291200   20922789888000\n",
       "\n",
       "          19                \n",
       "         x             / 20\\\n",
       " - ---------------- + O\\x  /\n",
       "   6402373705728000         "
      ]
     },
     "metadata": {},
     "output_type": "display_data"
    }
   ],
   "source": [
    "# o comando series tambem funciona: a sintaxe é \n",
    "# series(f(x),x,x0,k), onde x0 \n",
    "fm=sp.series(f,x,0,20).as_expr()\n",
    "display(fm)"
   ]
  },
  {
   "cell_type": "markdown",
   "id": "829e00ef",
   "metadata": {},
   "source": [
    "Se você não está ligando o nome à pessoa, uma aplicação interessante das séries de potências de uma função é poder calcular aproximações de valores de uma função $f(x)$ que não permite cálculos \"diretos\".\n",
    "\n",
    "Por exemplo, não sabemos calcular diretamente $e^2$, mas usando a série da exponencial, podemos aproximar esse valor tão bem quanto quisermos. Vamos usar o sufixo ```removeO``` para remover da série de Taylor a parte que tem os termos em $O(n)$."
   ]
  },
  {
   "cell_type": "code",
   "execution_count": 110,
   "id": "811177a2",
   "metadata": {},
   "outputs": [
    {
     "data": {
      "image/png": "[encoded data removed]",
      "text/latex": [
       "$\\displaystyle \\frac{20947}{2835}$"
      ],
      "text/plain": [
       "20947\n",
       "-----\n",
       " 2835"
      ]
     },
     "execution_count": 110,
     "metadata": {},
     "output_type": "execute_result"
    }
   ],
   "source": [
    "import sympy as sp\n",
    "x = sp.symbols('x')\n",
    "g = sp.exp(x)\n",
    "gk = sp.series(g,x,0,10).removeO()\n",
    "gk.subs(x,2)"
   ]
  },
  {
   "cell_type": "markdown",
   "id": "fc81b41a",
   "metadata": {},
   "source": [
    "Portanto, $20947/2835$ é uma boa aproximação racional para $e^2$. Bom, o que estamos fazendo é uma coisa totalmente sem propósito, já que estamos fazendo isso no computador e um simples comando poderia calcular. Mas é aquele famoso \"toy problem\". Só por curiosidade, note que:"
   ]
  },
  {
   "cell_type": "code",
   "execution_count": 111,
   "id": "34c771bd",
   "metadata": {},
   "outputs": [
    {
     "data": {
      "image/png": "[encoded data removed]",
      "text/latex": [
       "$\\displaystyle 7$"
      ],
      "text/plain": [
       "7"
      ]
     },
     "execution_count": 111,
     "metadata": {},
     "output_type": "execute_result"
    }
   ],
   "source": [
    "20947//2835"
   ]
  },
  {
   "cell_type": "markdown",
   "id": "d13c4f01",
   "metadata": {},
   "source": [
    "Portanto, $e^2$ está perto de 7. Como bônus, se você decorar a série abaixo, poderá tirar aquela onda no churrasco do fim de ano e calcular aproximações para $e^x$ para valores de $x$ próximos de $0$. Certamente, vai ser um sucesso."
   ]
  },
  {
   "cell_type": "code",
   "execution_count": 112,
   "id": "a04be3ac",
   "metadata": {},
   "outputs": [
    {
     "data": {
      "image/png": "[encoded data removed]",
      "text/latex": [
       "$\\displaystyle \\frac{x^{19}}{121645100408832000} + \\frac{x^{18}}{6402373705728000} + \\frac{x^{17}}{355687428096000} + \\frac{x^{16}}{20922789888000} + \\frac{x^{15}}{1307674368000} + \\frac{x^{14}}{87178291200} + \\frac{x^{13}}{6227020800} + \\frac{x^{12}}{479001600} + \\frac{x^{11}}{39916800} + \\frac{x^{10}}{3628800} + \\frac{x^{9}}{362880} + \\frac{x^{8}}{40320} + \\frac{x^{7}}{5040} + \\frac{x^{6}}{720} + \\frac{x^{5}}{120} + \\frac{x^{4}}{24} + \\frac{x^{3}}{6} + \\frac{x^{2}}{2} + x + 1$"
      ],
      "text/plain": [
       "        19                  18                 17               16            \n",
       "       x                   x                  x                x              \n",
       "------------------ + ---------------- + --------------- + -------------- + ---\n",
       "121645100408832000   6402373705728000   355687428096000   20922789888000   130\n",
       "\n",
       "   15             14           13           12         11         10        9 \n",
       "  x              x            x            x          x          x         x  \n",
       "---------- + ----------- + ---------- + --------- + -------- + ------- + -----\n",
       "7674368000   87178291200   6227020800   479001600   39916800   3628800   36288\n",
       "\n",
       "       8      7      6     5    4    3    2        \n",
       "      x      x      x     x    x    x    x         \n",
       "- + ----- + ---- + --- + --- + -- + -- + -- + x + 1\n",
       "0   40320   5040   720   120   24   6    2         "
      ]
     },
     "execution_count": 112,
     "metadata": {},
     "output_type": "execute_result"
    }
   ],
   "source": [
    "sp.series(g,x,0,20).as_expr().removeO()"
   ]
  },
  {
   "cell_type": "markdown",
   "id": "d32fe661",
   "metadata": {},
   "source": [
    "# Integrais\n",
    "\n",
    "E chegamos nas integrais. O integrador do SymPy é muito rápido e eficiente, e é o companheiro que gostaríamos de ter na hora da prova de cálculo. Resolver uma integral no Python é muito fácil: o comando é ```integrate(f,x)``` ou ```integrate(f,(x,a,b))``` se for uma integral definida, com $x\\in[a,b]$."
   ]
  },
  {
   "cell_type": "code",
   "execution_count": 113,
   "id": "1d1064ec",
   "metadata": {},
   "outputs": [
    {
     "data": {
      "image/png": "[encoded data removed]",
      "text/latex": [
       "$\\displaystyle \\frac{x^{3}}{3}$"
      ],
      "text/plain": [
       " 3\n",
       "x \n",
       "--\n",
       "3 "
      ]
     },
     "execution_count": 113,
     "metadata": {},
     "output_type": "execute_result"
    }
   ],
   "source": [
    "import sympy as sp\n",
    "x = sp.symbols('x')\n",
    "f=x**2\n",
    "sp.integrate(f,x)"
   ]
  },
  {
   "cell_type": "code",
   "execution_count": 114,
   "id": "d7856560",
   "metadata": {},
   "outputs": [
    {
     "data": {
      "image/png": "[encoded data removed]",
      "text/latex": [
       "$\\displaystyle \\left(x - 1\\right) e^{x}$"
      ],
      "text/plain": [
       "         x\n",
       "(x - 1)*e "
      ]
     },
     "execution_count": 114,
     "metadata": {},
     "output_type": "execute_result"
    }
   ],
   "source": [
    "import sympy as sp\n",
    "x = sp.symbols('x')\n",
    "g=x*sp.exp(x)\n",
    "sp.integrate(g,x)"
   ]
  },
  {
   "cell_type": "code",
   "execution_count": 115,
   "id": "b598fbed",
   "metadata": {},
   "outputs": [
    {
     "data": {
      "image/png": "[encoded data removed]",
      "text/latex": [
       "$\\displaystyle \\frac{e^{x} \\sin{\\left(x \\right)}}{2} + \\frac{e^{x} \\cos{\\left(x \\right)}}{2}$"
      ],
      "text/plain": [
       " x           x       \n",
       "e *sin(x)   e *cos(x)\n",
       "--------- + ---------\n",
       "    2           2    "
      ]
     },
     "execution_count": 115,
     "metadata": {},
     "output_type": "execute_result"
    }
   ],
   "source": [
    "import sympy as sp\n",
    "x = sp.symbols('x')\n",
    "h=sp.exp(x)*sp.cos(x)\n",
    "sp.integrate(h,x)"
   ]
  },
  {
   "cell_type": "markdown",
   "id": "c1809601",
   "metadata": {},
   "source": [
    "Bom, como você percebeu, o SymPy teria perdido $0.1$ em cada integral anterior - esqueceu a constante de integração.. coisa feia, Python. Alguns exemplos de integrais definidas:"
   ]
  },
  {
   "cell_type": "code",
   "execution_count": 116,
   "id": "47e00c3d",
   "metadata": {},
   "outputs": [
    {
     "data": {
      "image/png": "[encoded data removed]",
      "text/latex": [
       "$\\displaystyle \\frac{3}{4}$"
      ],
      "text/plain": [
       "3/4"
      ]
     },
     "execution_count": 116,
     "metadata": {},
     "output_type": "execute_result"
    }
   ],
   "source": [
    "p=x**3+x\n",
    "sp.integrate(p,(x,0,1))"
   ]
  },
  {
   "cell_type": "code",
   "execution_count": 117,
   "id": "dd4b8d5a",
   "metadata": {},
   "outputs": [
    {
     "data": {
      "image/png": "[encoded data removed]",
      "text/latex": [
       "$\\displaystyle \\text{NaN}$"
      ],
      "text/plain": [
       "nan"
      ]
     },
     "execution_count": 117,
     "metadata": {},
     "output_type": "execute_result"
    }
   ],
   "source": [
    "# vamos tentar enganar o python?\n",
    "q=1/(x-2)\n",
    "sp.integrate(q,(x,0,3))"
   ]
  },
  {
   "cell_type": "markdown",
   "id": "f3ab961e",
   "metadata": {},
   "source": [
    "Garoto esperto..\n",
    "\n",
    "O Python também consegue calcular integrais impróprias, lembrando que o símbolo ```oo``` é usado para \"infinito\".\n",
    "\n",
    "Atenção: se você tem menos que 18 anos, não execute o próximo comando!!"
   ]
  },
  {
   "cell_type": "code",
   "execution_count": 118,
   "id": "e5360821",
   "metadata": {},
   "outputs": [
    {
     "data": {
      "image/png": "[encoded data removed]",
      "text/latex": [
       "$\\displaystyle \\frac{\\sqrt{\\pi}}{2}$"
      ],
      "text/plain": [
       "  ____\n",
       "\\/ pi \n",
       "------\n",
       "  2   "
      ]
     },
     "execution_count": 118,
     "metadata": {},
     "output_type": "execute_result"
    }
   ],
   "source": [
    "sp.integrate(sp.exp(-x**2), (x, 0, sp.oo))"
   ]
  },
  {
   "cell_type": "markdown",
   "id": "b40574d5",
   "metadata": {},
   "source": [
    "Mais um exemplo de integral imprópria:"
   ]
  },
  {
   "cell_type": "code",
   "execution_count": 119,
   "id": "951349fc",
   "metadata": {},
   "outputs": [
    {
     "data": {
      "image/png": "[encoded data removed]",
      "text/latex": [
       "$\\displaystyle \\frac{1}{5}$"
      ],
      "text/plain": [
       "1/5"
      ]
     },
     "execution_count": 119,
     "metadata": {},
     "output_type": "execute_result"
    }
   ],
   "source": [
    "sp.integrate(1/(x**(6)), (x, 1,sp.oo))"
   ]
  },
  {
   "cell_type": "markdown",
   "id": "91b0cf3b",
   "metadata": {},
   "source": [
    "A integração de funções de várias variávies, principalmente se o domínio for um retângulo, também pode ser feita sem problemas no Python:"
   ]
  },
  {
   "cell_type": "code",
   "execution_count": 120,
   "id": "bbbadd59",
   "metadata": {},
   "outputs": [
    {
     "data": {
      "image/png": "[encoded data removed]",
      "text/latex": [
       "$\\displaystyle - c^{2} \\left(- \\frac{a^{2}}{4} + \\frac{b^{2}}{4}\\right) + d^{2} \\left(- \\frac{a^{2}}{4} + \\frac{b^{2}}{4}\\right)$"
      ],
      "text/plain": [
       "     /   2    2\\      /   2    2\\\n",
       "   2 |  a    b |    2 |  a    b |\n",
       "- c *|- -- + --| + d *|- -- + --|\n",
       "     \\  4    4 /      \\  4    4 /"
      ]
     },
     "execution_count": 120,
     "metadata": {},
     "output_type": "execute_result"
    }
   ],
   "source": [
    "x, y, a, b, c, d = sp.symbols(\"x y a b c d\")\n",
    "f = x*y\n",
    "sp.integrate(f, (y, a, b), (x, c, d))"
   ]
  },
  {
   "cell_type": "markdown",
   "id": "b43f1d38",
   "metadata": {},
   "source": [
    "Também podemos integrar sobre regiões um pouco mais gerais, as chamadas regiões de tipo I/tipo II, ou regiões $R_x$ ou $R_y$:"
   ]
  },
  {
   "cell_type": "code",
   "execution_count": 121,
   "id": "9bb24172",
   "metadata": {},
   "outputs": [
    {
     "data": {
      "image/png": "[encoded data removed]",
      "text/latex": [
       "$\\displaystyle \\frac{7}{4}$"
      ],
      "text/plain": [
       "7/4"
      ]
     },
     "execution_count": 121,
     "metadata": {},
     "output_type": "execute_result"
    }
   ],
   "source": [
    "x, y, a, b, c, d = sp.symbols(\"x y a b c d\")\n",
    "f = x**2+y\n",
    "sp.integrate(f, (y, 0, x+1), (x, 0, 1))"
   ]
  },
  {
   "cell_type": "markdown",
   "id": "0c4959a6",
   "metadata": {},
   "source": [
    "## Somas de Riemann\n",
    "\n",
    "Na primeira aula de integrais, começamos com integrais definidas, fazendo umas figuras sobre somas de Riemann. Acredite em mim: é complicado fazer isso manualmente, pois os cálculos são complicados e os desenhos são chatos de fazer. Que tal usar o Python pra facilitar nossa vida? Facilitará tanto o trabalho do professor quanto do aluno, que entenderá melhor.\n",
    "\n",
    "A implementação abaixo foi adaptada do Mathematical Python [(nesse site)](https://personal.math.ubc.ca/~pwalls/math-python/integration/riemann-sums/)."
   ]
  },
  {
   "cell_type": "code",
   "execution_count": 122,
   "id": "06f75ba5",
   "metadata": {},
   "outputs": [
    {
     "data": {
      "image/png": "[encoded data removed]",
      "text/plain": [
       "<Figure size 1080x360 with 1 Axes>"
      ]
     },
     "metadata": {
      "needs_background": "light"
     },
     "output_type": "display_data"
    }
   ],
   "source": [
    "import numpy as np\n",
    "import matplotlib.pyplot as plt\n",
    "\n",
    "# originamente, a função foi definida com a definicao lambda,\n",
    "# que de fato é mais simples nesse caso - caso queira saber\n",
    "# mais sobre ela, leia aqui:\n",
    "# https://stackabuse.com/lambda-functions-in-python/\n",
    "# f = lambda x : x**2\n",
    "\n",
    "# definindo a função\n",
    "def f(x):\n",
    "    return x**2\n",
    "\n",
    "# intervalo\n",
    "a = 0; b = 10;\n",
    "\n",
    "# numero de retangulos\n",
    "N = 10\n",
    "\n",
    "n = 10 # Use n*N+1 points to plot the function smoothly\n",
    "\n",
    "# discretizando variáveis\n",
    "x = np.linspace(a,b,N+1)\n",
    "y = f(x)\n",
    "X = np.linspace(a,b,n*N+1)\n",
    "Y = f(X)\n",
    "\n",
    "# iniciando plot\n",
    "plt.figure(figsize=(15,5))\n",
    "plt.subplot(1,3,1)\n",
    "plt.plot(X,Y,'b')\n",
    "x_left = x[:-1]\n",
    "y_left = y[:-1]\n",
    "plt.plot(x_left,y_left,'b.',markersize=10)\n",
    "plt.bar(x_left,y_left,width=(b-a)/N,alpha=0.2,align='edge',edgecolor='b')\n",
    "plt.title('Soma de Riemann com base na esquerda'.format(N))\n",
    "\n",
    "plt.show()"
   ]
  },
  {
   "cell_type": "code",
   "execution_count": null,
   "id": "fdbe05c0",
   "metadata": {},
   "outputs": [],
   "source": []
  }
 ],
 "metadata": {
  "author": "Ricardo Miranda Martins",
  "kernelspec": {
   "display_name": "Python 3 (ipykernel)",
   "language": "python",
   "name": "python3"
  },
  "language_info": {
   "codemirror_mode": {
    "name": "ipython",
    "version": 3
   },
   "file_extension": ".py",
   "mimetype": "text/x-python",
   "name": "python",
   "nbconvert_exporter": "python",
   "pygments_lexer": "ipython3",
   "version": "3.9.7"
  },
  "title": "Tutorial rápido de Python para Matemáticos",
  "toc": {
   "base_numbering": 1,
   "nav_menu": {},
   "number_sections": true,
   "sideBar": true,
   "skip_h1_title": false,
   "title_cell": "Table of Contents",
   "title_sidebar": "Contents",
   "toc_cell": true,
   "toc_position": {},
   "toc_section_display": true,
   "toc_window_display": false
  }
 },
 "nbformat": 4,
 "nbformat_minor": 5
}
