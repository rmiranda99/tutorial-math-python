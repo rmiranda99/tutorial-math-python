{
 "cells": [
  {
   "cell_type": "markdown",
   "id": "72ab1ede",
   "metadata": {},
   "source": [
    "# Tutorial rápido de Python para Matemáticos\n",
    "\n",
    "&copy; Ricardo Miranda Martins, 2022 - http://www.ime.unicamp.br/~rmiranda/\n",
    "\n",
    "## Índice\n",
    "\n",
    "1. [Introdução](1-intro.html) \n",
    "2. **[Python é uma boa calculadora!](2-calculadora.html)** [(código fonte)](2-calculadora.ipynb)\n",
    "3. [Resolvendo equações](3-resolvendo-eqs.html)  [(código fonte)](3-resolvendo-eqs.ipynb)\n",
    "4. [Gráficos](4-graficos.html)  [(código fonte)](4-graficos.ipynb)\n",
    "5. [Sistemas lineares e matrizes](5-lineares-e-matrizes.html)  [(código fonte)](5-lineares-e-matrizes.ipynb)\n",
    "6. [Limites, derivadas e integrais](6-limites-derivadas-integrais.html)  [(código fonte)](6-limites-derivadas-integrais.ipynb)\n",
    "7. [Equações direrenciais](7-equacoes-diferenciais.html)  [(código fonte)](7-equacoes-diferenciais.ipynb)\n"
   ]
  },
  {
   "cell_type": "markdown",
   "id": "a5bc1c3c",
   "metadata": {},
   "source": [
    "# Python é uma boa calculadora!\n",
    "\n",
    "Vamos colocar o Python para fazer umas contas. Para isso, é só digitar o que você quer na linha aqui de baixo e depois apertar shift+enter. Tudo que você digitar na linha de código começando com # será interpretado como um comentário, e em geral é usado para explicar partes do código."
   ]
  },
  {
   "cell_type": "code",
   "execution_count": 1,
   "id": "da574f34",
   "metadata": {},
   "outputs": [
    {
     "data": {
      "text/plain": [
       "2"
      ]
     },
     "execution_count": 1,
     "metadata": {},
     "output_type": "execute_result"
    }
   ],
   "source": [
    "# isto é um comentário. abaixo, fazemos a soma de 1 com 1\n",
    "1+1"
   ]
  },
  {
   "cell_type": "code",
   "execution_count": 2,
   "id": "d5c079ae",
   "metadata": {},
   "outputs": [
    {
     "data": {
      "text/plain": [
       "2087886801"
      ]
     },
     "execution_count": 2,
     "metadata": {},
     "output_type": "execute_result"
    }
   ],
   "source": [
    "232323*8987"
   ]
  },
  {
   "cell_type": "markdown",
   "id": "5096fd3c",
   "metadata": {},
   "source": [
    "Para dividir dois números, é só usar o símbolo \"/\":"
   ]
  },
  {
   "cell_type": "code",
   "execution_count": 3,
   "id": "12e85d28",
   "metadata": {},
   "outputs": [
    {
     "data": {
      "text/plain": [
       "2.75"
      ]
     },
     "execution_count": 3,
     "metadata": {},
     "output_type": "execute_result"
    }
   ],
   "source": [
    "11/4"
   ]
  },
  {
   "cell_type": "markdown",
   "id": "50c69b87",
   "metadata": {},
   "source": [
    "O resultado será um número decimal. Se você quiser fazer uma divisão inteira, aquela em que é produzido um quociente e um resto, terá que usar dois comandos. O ```//``` produz o quociente dessa divisão e o ```%``` o resto, como nos exemplos abaixo. Lembre-se que $11=4\\cdot 2+3$."
   ]
  },
  {
   "cell_type": "code",
   "execution_count": 4,
   "id": "d421a66c",
   "metadata": {},
   "outputs": [
    {
     "data": {
      "text/plain": [
       "2"
      ]
     },
     "execution_count": 4,
     "metadata": {},
     "output_type": "execute_result"
    }
   ],
   "source": [
    "11//4"
   ]
  },
  {
   "cell_type": "code",
   "execution_count": 5,
   "id": "2379ce75",
   "metadata": {},
   "outputs": [
    {
     "data": {
      "text/plain": [
       "3"
      ]
     },
     "execution_count": 5,
     "metadata": {},
     "output_type": "execute_result"
    }
   ],
   "source": [
    "11 % 4"
   ]
  },
  {
   "cell_type": "markdown",
   "id": "6ed1b7cd",
   "metadata": {},
   "source": [
    "O Python tem suas funções ampliadas com base em módulos/bibliotecas. Usaremos muitas delas em nossos exemplos. \n",
    "\n",
    "Uma das bibliotecas mais poderosas para matemática é a SymPy, para cálculos simbólicos. A SymPy é uma biblioteca enorme, então se importamos todas as funções dela para o ambiente de trabalho, além de começar a dar conflito com algumas outras funções, tudo pode ficar mais lento. Então o comando abaixo vai importar SymPy usando um atalho. Esse é um procedimento totalmente usual. No [site do SymPy](https://docs.sympy.org/latest/tutorial/index.html) você tem um tutorial bem legal que eu recomendo.\n",
    "\n",
    "O comando ```import sympy as sp``` diz que estamos importando a biblioteca SymPy e o prefixo ```sp``` será usado para chamar as funções dessa biblioteca. A seguir, usamos o comando ```isprime```, que determina se um número é ou não primo."
   ]
  },
  {
   "cell_type": "code",
   "execution_count": 6,
   "id": "54516414",
   "metadata": {},
   "outputs": [
    {
     "data": {
      "text/plain": [
       "True"
      ]
     },
     "execution_count": 6,
     "metadata": {},
     "output_type": "execute_result"
    }
   ],
   "source": [
    "import sympy as sp\n",
    "sp.isprime(11)"
   ]
  },
  {
   "cell_type": "markdown",
   "id": "e17bda18",
   "metadata": {},
   "source": [
    "## Sem preguiça, vamos programar um pouco!\n",
    "\n",
    "Usar a função ```isprime``` do SymPy é ótimo, mas poderíamos ter programado um \"crivo\" para verificar primalidade, né? Vamos fazer isso. Vai ser uma primeira oportunidade de conhecer a sintaxe de alguns laços, que podem ser úteis mais pra frente.\n",
    "\n",
    "Uma forma simples de verificar se um número é primo é a seguinte: tente dividí-lo por todos os inteiros maiores que 1 e menores que ele. Se nenhuma divisão for exata, o número é primo. Se em alguma divisão der resto zero, então o número não será primo. O código abaixo foi adaptado [daqui](https://stackoverflow.com/questions/4114167/checking-if-a-number-is-prime-in-python). "
   ]
  },
  {
   "cell_type": "code",
   "execution_count": 7,
   "id": "52addc89",
   "metadata": {},
   "outputs": [
    {
     "data": {
      "text/plain": [
       "True"
      ]
     },
     "execution_count": 7,
     "metadata": {},
     "output_type": "execute_result"
    }
   ],
   "source": [
    "def checaprimo(n):\n",
    "    if n == 2:\n",
    "        return True\n",
    "    if n % 2 == 0 or n <= 1:\n",
    "        return False\n",
    "    for divisor in range(3, n, 2):\n",
    "        if n % divisor == 0:\n",
    "            return False\n",
    "    return True\n",
    "checaprimo(101)"
   ]
  },
  {
   "cell_type": "markdown",
   "id": "28b11696",
   "metadata": {},
   "source": [
    "Agora vamos pensar um pouco: estamos tentando dividir $n$ por todos os números entre $2$ e $n-1$. Será que precisamos de tudo isso? Ora, se $n$ for divisível por $k$, com $k<n$, então $n$ também será divisível por $n/k$. Das duas, uma: ou $k$ ou $n/k$ será menor que $\\sqrt{n}$. A prova disso é fácil: se ambos forem maiores que $\\sqrt{n}$, então o produto deles, que sabemos que resulta em $n$, seria $$n=k\\cdot (n/k)>\\sqrt{n}\\cdot \\sqrt{n}=n,$$ um absurdo portanto.\n",
    "\n",
    "Logo, podemos alterar o ```range``` dentro do ```for``` para ir de $3$ até o inteiro maior ou igual a$\\sqrt{n}$ (repare no uso da função ```int``` no código).\n",
    "\n",
    "Como a função $\\sqrt{x}$ não está implementada por padrão no Python, ao invés de implementá-la, vamos carregar a biblioteca ```math``` que vem com ela e outras funções simples no pacote. Veja detalhes sobre a ```math``` [aqui](https://docs.python.org/3/library/math.html).\n",
    "\n",
    "Note que isso aumenta bastante a velocidade de execução do nosso algoritmo."
   ]
  },
  {
   "cell_type": "code",
   "execution_count": 8,
   "id": "5ebbfcca",
   "metadata": {},
   "outputs": [
    {
     "data": {
      "text/plain": [
       "True"
      ]
     },
     "execution_count": 8,
     "metadata": {},
     "output_type": "execute_result"
    }
   ],
   "source": [
    "import math\n",
    "def checaprimo2(n):\n",
    "    if n == 2:\n",
    "        return True\n",
    "    if n % 2 == 0 or n <= 1:\n",
    "        return False\n",
    "    for divisor in range(3, int(math.sqrt(n)), 2):\n",
    "        if n % divisor == 0:\n",
    "            return False\n",
    "    return True\n",
    "checaprimo2(101)"
   ]
  },
  {
   "cell_type": "markdown",
   "id": "d3808a4a",
   "metadata": {},
   "source": [
    "## Bônus: programando nossa própria raiz quadrada\n",
    "\n",
    "No código acima, para verificar a primalidade, usamos a função ```sqrt``` do pacote ```math``` do Python, mas isso é um exagero. Podemos facilmente programar uma função que calcula a raiz quadrada.\n",
    "\n",
    "A função que vamos programar usa um argumento simples, que era usado pelos babilônios por volta do ano 60 d.C. para calcular a raiz quadrada: suponha que $x>0$ e queremos calcular $\\sqrt{x}$. Seja $y$ com $y^2<x$. Então $\\sqrt{x}$ está entre $y$ e $x/y$ (\"perto do ponto médio desse intervalo\"). Atualmente essa estratégia é conhecida como método de Heron, e sua demonstração é simples (tem até [aqui](https://en.wikipedia.org/wiki/Methods_of_computing_square_roots#Babylonian_method) na Wikipedia).\n",
    "\n",
    "Em termos mais algoritmicos, a ideia é a seguinte. Queremos calcular $\\sqrt{x}$. Escolha $y=1$ (ou qualquer outro número positivo). Então, a menos que $x=1$, a raiz quadrada de $x$ estará entre $y$ e $x/y$. Pegue então o ponto médio desse intervalo e chame de $y_1$. Novamente, a raiz quadrada de $x$ estará entre $y_1$ e $x/y_1$. Pegue novamente o ponto médio desse intervalo e continue sucessivamente. A sequência desses \"pontos médios\" vai convergir para a raiz quadrada."
   ]
  },
  {
   "cell_type": "code",
   "execution_count": 9,
   "id": "d39811fd",
   "metadata": {},
   "outputs": [
    {
     "data": {
      "text/plain": [
       "1.414213562373095"
      ]
     },
     "execution_count": 9,
     "metadata": {},
     "output_type": "execute_result"
    }
   ],
   "source": [
    "def minharaizquadrada(x):\n",
    "    y=1\n",
    "    # aqui é que definimos o numero de iterações, troque 10 pelo que quiser;\n",
    "    # quando maior, melhor aproximação\n",
    "    for k in range(1,10):\n",
    "        y = (y + x/y)/2\n",
    "    return y\n",
    "\n",
    "# calculando sqrt(2)\n",
    "minharaizquadrada(2)"
   ]
  },
  {
   "cell_type": "markdown",
   "id": "d2ecf0e5",
   "metadata": {},
   "source": [
    "Pronto, agora temos nossa própria função para calcular raiz quadrada! Vamos rodar novamente aquele teste de primalidade, só que agora com nossa função raiz quadrada."
   ]
  },
  {
   "cell_type": "code",
   "execution_count": 10,
   "id": "3b087d49",
   "metadata": {},
   "outputs": [
    {
     "data": {
      "text/plain": [
       "True"
      ]
     },
     "execution_count": 10,
     "metadata": {},
     "output_type": "execute_result"
    }
   ],
   "source": [
    "def checaprimo3(n):\n",
    "    if n == 2:\n",
    "        return True\n",
    "    if n % 2 == 0 or n <= 1:\n",
    "        return False\n",
    "    for divisor in range(3, int(minharaizquadrada(n)), 2):\n",
    "        if n % divisor == 0:\n",
    "            return False\n",
    "    return True\n",
    "checaprimo3(101)"
   ]
  },
  {
   "cell_type": "markdown",
   "id": "6b5f9012",
   "metadata": {},
   "source": [
    "Bom, 101 continua sendo primo, então a função deve funcionar :)"
   ]
  }
 ],
 "metadata": {
  "author": "Ricardo Miranda Martins",
  "kernelspec": {
   "display_name": "Python 3 (ipykernel)",
   "language": "python",
   "name": "python3"
  },
  "language_info": {
   "codemirror_mode": {
    "name": "ipython",
    "version": 3
   },
   "file_extension": ".py",
   "mimetype": "text/x-python",
   "name": "python",
   "nbconvert_exporter": "python",
   "pygments_lexer": "ipython3",
   "version": "3.9.7"
  },
  "title": "Tutorial rápido de Python para Matemáticos",
  "toc": {
   "base_numbering": 1,
   "nav_menu": {},
   "number_sections": true,
   "sideBar": true,
   "skip_h1_title": false,
   "title_cell": "Table of Contents",
   "title_sidebar": "Contents",
   "toc_cell": true,
   "toc_position": {},
   "toc_section_display": true,
   "toc_window_display": false
  }
 },
 "nbformat": 4,
 "nbformat_minor": 5
}
