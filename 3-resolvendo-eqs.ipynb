{
 "cells": [
  {
   "cell_type": "markdown",
   "id": "fe53067b",
   "metadata": {},
   "source": [
    "# Tutorial rápido de Python para Matemáticos\n",
    "\n",
    "&copy; Ricardo Miranda Martins, 2022 - http://www.ime.unicamp.br/~rmiranda/\n",
    "\n",
    "## Índice\n",
    "\n",
    "1. [Introdução](1-intro.html) \n",
    "2. [Python é uma boa calculadora!](2-calculadora.html) [(código fonte)](2-calculadora.ipynb)\n",
    "3. **[Resolvendo equações](3-resolvendo-eqs.html)**  [(código fonte)](3-resolvendo-eqs.ipynb)\n",
    "4. [Gráficos](4-graficos.html)  [(código fonte)](4-graficos.ipynb)\n",
    "5. [Sistemas lineares e matrizes](5-lineares-e-matrizes.html)  [(código fonte)](5-lineares-e-matrizes.ipynb)\n",
    "6. [Limites, derivadas e integrais](6-limites-derivadas-integrais.html)  [(código fonte)](6-limites-derivadas-integrais.ipynb)\n",
    "7. [Equações diferenciais](7-equacoes-diferenciais.html)  [(código fonte)](7-equacoes-diferenciais.ipynb)"
   ]
  },
  {
   "cell_type": "markdown",
   "id": "f4715e3e",
   "metadata": {},
   "source": [
    "# Resolvendo equações\n",
    "\n",
    "A primeira coisa que a gente faz em um sistema computacional novo é resolver umas equações. Como faremos isso?\n",
    "\n",
    "No futuro, o computador vai ler a nossa mente e saber exatamente o que a gente quer fazer. Até lá, teremos que nos preocupar com sintaxes. Vamos novamente carregar a biblioteca SymPy (essa linha é opcional, caso você tenha executado o comando anterior, que já carrega a SymPy como ```sp```)."
   ]
  },
  {
   "cell_type": "code",
   "execution_count": 11,
   "id": "f1728f78",
   "metadata": {},
   "outputs": [],
   "source": [
    "import sympy as sp"
   ]
  },
  {
   "cell_type": "markdown",
   "id": "187a307f",
   "metadata": {},
   "source": [
    "O Python, como padrão, não sabe o que é x, y, z, etc. Temos que definir que essas letras serão reservadas para serem variáveis simbólicas. Isso é feito com o comando abaixo:"
   ]
  },
  {
   "cell_type": "code",
   "execution_count": 12,
   "id": "1317e745",
   "metadata": {},
   "outputs": [],
   "source": [
    "x, y = sp.symbols('x y')"
   ]
  },
  {
   "cell_type": "markdown",
   "id": "f8e61fb6",
   "metadata": {},
   "source": [
    "Viu como usamos o comando ```sp.symbols```, com o prefixo ```sp```? Isso significa que estamos usando o comando ```symbols``` do pacote SymPy. Para resolver equações envolvendo $x,y$, vamos usar o comando ```solve```, que também está no pacote SymPy. Portanto, teremos que chamá-lo usando ```sp.solve```."
   ]
  },
  {
   "cell_type": "code",
   "execution_count": 13,
   "id": "b65ae245",
   "metadata": {},
   "outputs": [
    {
     "data": {
      "text/plain": [
       "[-1]"
      ]
     },
     "execution_count": 13,
     "metadata": {},
     "output_type": "execute_result"
    }
   ],
   "source": [
    "sp.solve(x+1)"
   ]
  },
  {
   "cell_type": "markdown",
   "id": "574c1efa",
   "metadata": {},
   "source": [
    "O comando ```sp.solve``` assume que você passou uma equação da forma \"$\\text{equacao}=0$\" pra ele, e resolve para as variáveis envolvidas. Portanto, o comando acima resolve a equação $x+1=0$ com respeito à única variável envolvida, que é $x$. Portanto, é claro que se $x+1=0$ então $x=-1$.\n",
    "\n",
    "Isso é muito importante: ao usar o comando ```sp.solve``` você sempre tem que se lembrar que a equação tem esse formato. Vamos experimentar isso novamente com algumas equações, procurando raízes de $x^2-0=0$ (cuidado com a notação: no Python você deve representar $x^n$ por ```x**n```)."
   ]
  },
  {
   "cell_type": "code",
   "execution_count": 14,
   "id": "2a95fb52",
   "metadata": {},
   "outputs": [
    {
     "data": {
      "text/plain": [
       "[-3, 3]"
      ]
     },
     "execution_count": 14,
     "metadata": {},
     "output_type": "execute_result"
    }
   ],
   "source": [
    "sp.solve(x**2-9)"
   ]
  },
  {
   "cell_type": "markdown",
   "id": "e07dde26",
   "metadata": {},
   "source": [
    "Contem uma mentirinha para vocês. O SymPy tem a opção de construir uma \"equação\" para a gente não precisar \"passar tudo pro lado esquerdo\". O comando para isso é o ```Eq```, lembrando que precisamos usar ```sp``` antes:"
   ]
  },
  {
   "cell_type": "code",
   "execution_count": 15,
   "id": "3a006898",
   "metadata": {},
   "outputs": [
    {
     "data": {
      "text/plain": [
       "[-3, 3]"
      ]
     },
     "execution_count": 15,
     "metadata": {},
     "output_type": "execute_result"
    }
   ],
   "source": [
    "sp.solve(sp.Eq(x**2,9))"
   ]
  },
  {
   "cell_type": "markdown",
   "id": "2c22a626",
   "metadata": {},
   "source": [
    "Vamos resolver mais algumas equações."
   ]
  },
  {
   "cell_type": "code",
   "execution_count": 16,
   "id": "6d08d59a",
   "metadata": {},
   "outputs": [
    {
     "data": {
      "text/plain": [
       "[CRootOf(x**7 - x**6 + x**3 - 9, 0),\n",
       " CRootOf(x**7 - x**6 + x**3 - 9, 1),\n",
       " CRootOf(x**7 - x**6 + x**3 - 9, 2),\n",
       " CRootOf(x**7 - x**6 + x**3 - 9, 3),\n",
       " CRootOf(x**7 - x**6 + x**3 - 9, 4),\n",
       " CRootOf(x**7 - x**6 + x**3 - 9, 5),\n",
       " CRootOf(x**7 - x**6 + x**3 - 9, 6)]"
      ]
     },
     "execution_count": 16,
     "metadata": {},
     "output_type": "execute_result"
    }
   ],
   "source": [
    "sp.solve(x**7-x**6+x**3-9)"
   ]
  },
  {
   "cell_type": "markdown",
   "id": "41997799",
   "metadata": {},
   "source": [
    "Ops! O que aconteceu aqui? Que resposta estranha é essa? Cadê as raízes??????\n",
    "\n",
    "Tentamos usar o SymPy para encontrar raízes de um polinômio de grau 7 e não deu certo. Como você deve saber, o jovem Galois provou que raízes de polinômios de grau $\\geq 5$ não podem ser expressas por radicais envolvendo coeficientes do polinômio, o que popularmente significa que \"não tem fórmula para as raízes\". A resposta, no entanto, é coerente: ele diz que as soluções de $$x^7-x^6+x^3-9=0$$ são uma das 7 raízes desse polinômio. Tá errado? Não. Adianta de alguma coisa? Também não.\n",
    "\n",
    "Nesse caso, devemos partir para a busca de soluções numéricas. O SymPy tem um comando parecido com o ```solve```, só que procura soluções de forma numérica: o ```nsolve```. A sintaxe para encontrar uma solução de $F(x)=0$, com o chute inicial para a solução sendo $x_0$ é ```sp.nsolve(F,x0)```. Note que $x_0$ não precisa ser uma solução, é só uma estimativa inicial."
   ]
  },
  {
   "cell_type": "code",
   "execution_count": 17,
   "id": "0fe578ea",
   "metadata": {},
   "outputs": [
    {
     "data": {
      "text/latex": [
       "$\\displaystyle 1.49827540261252$"
      ],
      "text/plain": [
       "1.49827540261252"
      ]
     },
     "execution_count": 17,
     "metadata": {},
     "output_type": "execute_result"
    }
   ],
   "source": [
    "sp.nsolve(x**7-x**6+x**3-9,1)"
   ]
  },
  {
   "cell_type": "markdown",
   "id": "882fbbc9",
   "metadata": {},
   "source": [
    "Encontramos uma solução! Um dos \"problemas\" do ```nsolve``` é que ele só procura uma solução de cada vez, dependendo do ponto inicial dado. Na dúvida, você pode dar uma \"conferida\" fazendo o gráfico. Falaremos mais sobre gráficos depois, mas fica aqui um gostinho.\n",
    "\n",
    "Usaremos o próprio comando de plotar do SymPy. Ele não é o que de melhor existe no Python para plotar gráficos, mas é bem eficiente para coisas simples.\n",
    "\n",
    "Abaixo plotamos o gráfico da função $y=x^7-x^6+x^3-9$, com $x\\in[-2,2]$ e limitamos o eixo $y$ ao intervalo $-50,50$."
   ]
  },
  {
   "cell_type": "code",
   "execution_count": 18,
   "id": "26d51352",
   "metadata": {},
   "outputs": [
    {
     "data": {
      "image/png": "[encoded data removed]",
      "text/plain": [
       "<Figure size 432x288 with 1 Axes>"
      ]
     },
     "metadata": {
      "needs_background": "light"
     },
     "output_type": "display_data"
    },
    {
     "data": {
      "text/plain": [
       "<sympy.plotting.plot.Plot at 0x7f79b89c98e0>"
      ]
     },
     "execution_count": 18,
     "metadata": {},
     "output_type": "execute_result"
    }
   ],
   "source": [
    "x = sp.symbols('x')\n",
    "sp.plot(x**7-x**6+x**3-9,(x,-2,2),ylim=[-50,50])"
   ]
  },
  {
   "cell_type": "markdown",
   "id": "380dca34",
   "metadata": {},
   "source": [
    "Olhando o gráfico, parece que a solução que achamos acima é mesmo uma solução mesmo, né?\n",
    "\n",
    "Vamos continuar resolvendo equações. Equações envolvendo mais que uma variável, que são em geral difíceis de serem resolvidas, ficam fáceis no Python:"
   ]
  },
  {
   "cell_type": "code",
   "execution_count": 19,
   "id": "4a4de9ec",
   "metadata": {},
   "outputs": [
    {
     "data": {
      "text/plain": [
       "[{x: 3/4 - sqrt(57)/4, y: 5/4 + sqrt(57)/4},\n",
       " {x: 3/4 + sqrt(57)/4, y: 5/4 - sqrt(57)/4}]"
      ]
     },
     "execution_count": 19,
     "metadata": {},
     "output_type": "execute_result"
    }
   ],
   "source": [
    "sp.solve((x**2+y**2+x-10,x+y-2),(x,y),dict=True)"
   ]
  },
  {
   "cell_type": "markdown",
   "id": "e5e8667f",
   "metadata": {},
   "source": [
    "Não se iluda com o comando acima. Em geral, para muitas equações e muitas variáveis, será preciso pedir soluções numéricas, com o ```nsolve```. Você pode mudar o formato da resposta usando a opção ```dict```, e também pode especificar o número de casas decimais da resposta com a opção ```prec```:"
   ]
  },
  {
   "cell_type": "code",
   "execution_count": 20,
   "id": "be47f0f1",
   "metadata": {},
   "outputs": [
    {
     "data": {
      "text/latex": [
       "$\\displaystyle \\left[\\begin{matrix}2.63745860881768742430917120174\\\\-0.637458608817687424309171201737\\end{matrix}\\right]$"
      ],
      "text/plain": [
       "Matrix([\n",
       "[  2.63745860881768742430917120174],\n",
       "[-0.637458608817687424309171201737]])"
      ]
     },
     "execution_count": 20,
     "metadata": {},
     "output_type": "execute_result"
    }
   ],
   "source": [
    "sp.nsolve((x**2+y**2+x-10,x+y-2),(x,y),[1,1],prec=30)"
   ]
  },
  {
   "cell_type": "code",
   "execution_count": 21,
   "id": "b81a7393",
   "metadata": {},
   "outputs": [
    {
     "data": {
      "text/plain": [
       "[{x: 2.63745860881768742430917120174, y: -0.637458608817687424309171201737}]"
      ]
     },
     "execution_count": 21,
     "metadata": {},
     "output_type": "execute_result"
    }
   ],
   "source": [
    "sp.nsolve((x**2+y**2+x-10,x+y-2),(x,y),[1,1],dict=True,prec=30)"
   ]
  },
  {
   "cell_type": "markdown",
   "id": "5bf7d088",
   "metadata": {},
   "source": [
    "Ao invés de procurar soluções para $F(x)=0$, podemos estar interessados em calcular $F(x_0)$ para algum valor de $x_0$. Em muitos casos, não precisamos definir $F$ como uma função, ela pode estar definida como uma expressão e daí pedir para o Python substituir os valores, como por exemplo no comando abaixo, que define $F=x^2+y^3-2$ e calcula $F(1,2)$."
   ]
  },
  {
   "cell_type": "code",
   "execution_count": 22,
   "id": "70aea5e5",
   "metadata": {},
   "outputs": [
    {
     "data": {
      "text/latex": [
       "$\\displaystyle 7$"
      ],
      "text/plain": [
       "7"
      ]
     },
     "execution_count": 22,
     "metadata": {},
     "output_type": "execute_result"
    }
   ],
   "source": [
    "x, y = sp.symbols('x y')\n",
    "F=x**2+y**3-2\n",
    "F.subs(x,1).subs(y,2)"
   ]
  },
  {
   "cell_type": "markdown",
   "id": "49db9607",
   "metadata": {},
   "source": [
    "Para armazenar o valor de uma expressão, não precisamos declarar antes como símbolo. E depois podemos usar em contas, normalmente:"
   ]
  },
  {
   "cell_type": "code",
   "execution_count": 23,
   "id": "ae6223f3",
   "metadata": {},
   "outputs": [
    {
     "data": {
      "text/latex": [
       "$\\displaystyle 49$"
      ],
      "text/plain": [
       "49"
      ]
     },
     "execution_count": 23,
     "metadata": {},
     "output_type": "execute_result"
    }
   ],
   "source": [
    "k=F.subs(x,1).subs(y,2)\n",
    "k**2"
   ]
  },
  {
   "cell_type": "markdown",
   "id": "14c525a9",
   "metadata": {},
   "source": [
    "O Python, assim como a maioria dos sistemas computacionais, mantém um comando especial para sistemas linares. No caso do SymPy, é o ```linsolve```. Os três comandos abaixo dão a mesma resposta, apesar de usarem métodos diferentes para obter a solução (note que cada saída é também formatada de uma forma):"
   ]
  },
  {
   "cell_type": "code",
   "execution_count": 24,
   "id": "48b697c8",
   "metadata": {},
   "outputs": [
    {
     "data": {
      "text/latex": [
       "$\\displaystyle \\left\\{\\left( 2, \\  -1\\right)\\right\\}$"
      ],
      "text/plain": [
       "{(2, -1)}"
      ]
     },
     "execution_count": 24,
     "metadata": {},
     "output_type": "execute_result"
    }
   ],
   "source": [
    "sp.linsolve((x+y-1,x-y-3),(x,y))"
   ]
  },
  {
   "cell_type": "code",
   "execution_count": 25,
   "id": "964a5559",
   "metadata": {},
   "outputs": [
    {
     "data": {
      "text/plain": [
       "{x: 2, y: -1}"
      ]
     },
     "execution_count": 25,
     "metadata": {},
     "output_type": "execute_result"
    }
   ],
   "source": [
    "sp.solve((x+y-1,x-y-3),(x,y))"
   ]
  },
  {
   "cell_type": "code",
   "execution_count": 26,
   "id": "6e9233c3",
   "metadata": {},
   "outputs": [
    {
     "data": {
      "text/latex": [
       "$\\displaystyle \\left[\\begin{matrix}2.0\\\\-1.0\\end{matrix}\\right]$"
      ],
      "text/plain": [
       "Matrix([\n",
       "[ 2.0],\n",
       "[-1.0]])"
      ]
     },
     "execution_count": 26,
     "metadata": {},
     "output_type": "execute_result"
    }
   ],
   "source": [
    "sp.nsolve((x+y-1,x-y-3),(x,y),[1,1],prec=5)"
   ]
  },
  {
   "cell_type": "markdown",
   "id": "ecf6b6df",
   "metadata": {},
   "source": [
    "Por fim, vamos resolver um sistema de equações com o ```nsolve``` e depois entender geometricamente o que está acontecendo. Compare as soluções que encontramos com a figura que foi plotada. O comando ```plot_implicit``` plota curvas dadas implicitamente, e usamos o ```Or``` para indicar que são duas curvas."
   ]
  },
  {
   "cell_type": "code",
   "execution_count": 27,
   "id": "7b831ca2",
   "metadata": {},
   "outputs": [
    {
     "data": {
      "text/plain": [
       "[{x: 0.837615759482675, y: 0.162384240517325}]"
      ]
     },
     "execution_count": 27,
     "metadata": {},
     "output_type": "execute_result"
    }
   ],
   "source": [
    "sp.nsolve((x**5+y**6+x**3-1,x+y-1),(x,y),[0.5,0],dict=True)"
   ]
  },
  {
   "cell_type": "code",
   "execution_count": 28,
   "id": "a5dc5f21",
   "metadata": {},
   "outputs": [
    {
     "data": {
      "text/plain": [
       "[{x: -1.12228828894446e-23, y: 1.00000000000000}]"
      ]
     },
     "execution_count": 28,
     "metadata": {},
     "output_type": "execute_result"
    }
   ],
   "source": [
    "sp.nsolve((x**5+y**6+x**3-1,x+y-1),(x,y),[1,2],dict=True)"
   ]
  },
  {
   "cell_type": "code",
   "execution_count": 29,
   "id": "8715e88d",
   "metadata": {},
   "outputs": [
    {
     "data": {
      "image/png": "[encoded data removed]",
      "text/plain": [
       "<Figure size 432x288 with 1 Axes>"
      ]
     },
     "metadata": {
      "needs_background": "light"
     },
     "output_type": "display_data"
    },
    {
     "data": {
      "text/plain": [
       "<sympy.plotting.plot.Plot at 0x7f79d8da7df0>"
      ]
     },
     "execution_count": 29,
     "metadata": {},
     "output_type": "execute_result"
    }
   ],
   "source": [
    "sp.plot_implicit(sp.Or(sp.Eq(x**5+y**6+x**3,1),sp.Eq(x+y,1)))"
   ]
  },
  {
   "cell_type": "markdown",
   "id": "72b5ad4f",
   "metadata": {},
   "source": [
    "## Encontrar soluções de equações? Ideias simples podem funcionar.\n",
    "\n",
    "Suponha que você queira achar uma solução para a equação $f(x)=0$. O que é a primeira coisa que você pensa? Matemáticos costumam pensar: será que existe alguma solução?\n",
    "\n",
    "Faz sentido: quando você quer procurar uma item perdido pela casa, antes de começar a procurar num cômodo, você primeiro pondera se existe mesmo alguma chance dele estar ali. Quem tem filhos sabe que essa lógica nem sempre funciona, e é comum encontrar peças de Lego em lugares nunca antes imaginados, mas vamos continuar com nosso raciocínio.\n",
    "\n",
    "Em todo caso, vamos pensar sobre condições para existência de solução para $f(x)=0$. Suponha que $f(x)$ seja uma função \"boa\", o que para a gente no momento significa que ela é contínua e definida num intervalo fechado. Em resumo, ela é daquelas funções que você consegue fazer o gráfico sem tirar o lápis do papel. \n",
    "\n",
    "Suponha que existam dois números $x_1$ e $x_2$, com a propriedade de que $f(x_1)$ e $f(x_2)$ tem sinais contrários, por exemplo $f(x_1)<0$ e $f(x_2)>0$. Então, ao fazermos o gráfico de $y=f(x)$, teremos os pontos $(x_1,f(x_1))$ e $(x_2,f(x_2))$ em lados opostos do eixo $x$, um abaixo e outro acima do eixo.\n",
    "\n",
    "Ora, o gráfico de $y=f(x)$ tem que, de alguma forma, passar por esses dois pontos! Faça aí uns gráficos em uma folha de papel e se convença de que a única possibilidade é existir um ponto $x_0$, entre $x_1$ e $x_2$, de modo que $f(x_0)=0$. Se você está convencido disso, saiba que pode ser que você tenha provado o Teorema de Bolzano, ainda que sem formalismo.\n",
    "\n",
    "O resumo é que se você sabe que $f(x_1)<0$ e $f(x_2)>0$, então existe $x_0$ entre $x_1$ e $x_2$ que resolve a equação $f(x)=0$. Como calcular $x_0$, ou pelo menos uma aproximação para ele? Uma possibilidade é usar o método da bisseção (detalhes [aqui](https://www.ufrgs.br/reamat/CalculoNumerico/livro-py/sdeduv-metodo_da_bissecao.html)), que vamos explicar brevemente.\n",
    "\n",
    "Esse método usa o seguinte argumento: sejam $a,b$ tais que $f(a)<0$ e $f(b)>0$. Então sabemos que existe uma solução para $f(x)$ com $x\\in[a,b]$. Pegue um outro ponto desse intervalo, digamos o ponto médio $x_0=(a+b)/2$. Se $f(x_0)=0$, encontramos um zero. Se $f(x_0)\\neq 0$, então temos duas possibilidades:\n",
    "1. ou $f(x_0)>0$ ou\n",
    "2. $f(x_0)<0$.\n",
    "\n",
    "No primeiro caso, repetindo o argumento anterior, devemos ter uma solução de $f(x)=0$ no intervalo $[a,x_0]$, e no segundo caso teremos uma solução para $f(x)=0$ no intervalo $[x_0,b]$. Agora faça tudo novamente com um desses intervalos. A ideia é que em cada passo você irá confinar a solução a um intervalo menor, encontrando aproximações cada vez melhores para a solução da equação.\n",
    "\n",
    "Antes do código, vamos fazer um exemplo \"manual\".\n",
    "\n",
    "Seja $f(x)=x^7+x-1$. Queremos resolver $f(x)=0$. Essa função é contínua. Temos que $f(0)=-1$ e $f(1)=1$. Então deve existir alguma solução para $f(x)=0$ no intervalo $[0,1]$.\n",
    "\n",
    "- $f(1/2)=(1/2)^7+(1/2)-1=-63/128<0$\n",
    "\n",
    "Portanto, existe uma solução entre $[1/2,1]$ e já diminuímos o intervalo onde está a solução para um de comprimento $1/2$. Calculamos novamente o valor da função no ponto médio desse intervalo:\n",
    "\n",
    "- $f(3/4)=-1909/16384<0$\n",
    "\n",
    "Como $f(3/4)<0$ e $f(1)>0$, temos uma solução para $f(x)=0$ no intervalo $[3/4,1]$. Vamos novamente calcular o valor da função no ponto médio:\n",
    "\n",
    "- $f(7/8)=561399/2097152>0$\n",
    "\n",
    "\n",
    "Como $f(7/8)>0$ e $f(3/4)<0$, temos uma solução para $f(x)=0$ no intervalo $[3/4,7/8]$. Vamos calcular novamente no ponto médio:\n",
    "\n",
    "- $f(13/16)=12416869/268435456>0$\n",
    "\n",
    "Assim, teremos uma solução para $f(x)=0$ no intervalo $[3/4,13/16]$, ou seja, entre $0,75$ e $0,8125$. Se continuarmos usando o método, chegaremos que uma boa aproximação para a solução é $x=0,7965...$. \n",
    "\n",
    "Note que, a cada passo, simplesmente calculamos o valor da função no ponto médio, comparamos com os extremos, e daí decidimos por um dos dois subintervalos. A única coisa que devemos decidir é quanto o algoritmo irá parar: isso pode ser feito após um número determinado de passos, ou quando o tamanho do intervalo já for suficiente. Por exemplo, se decidirmos parar sempre que o intervalo tiver comprimento menor que $10^{-(k+1)}$, teremos uma solução com precisão de $k$ casas decimais.\n",
    "\n",
    "A implementação abaixo é a mesma do Mathematical Python, do Patrick Walls [(veja aqui)](https://personal.math.ubc.ca/~pwalls/math-python/roots-optimization/bisection/)."
   ]
  },
  {
   "cell_type": "code",
   "execution_count": 30,
   "id": "35d0b90d",
   "metadata": {},
   "outputs": [
    {
     "name": "stdout",
     "output_type": "stream",
     "text": [
      "Solução encontrada!\n"
     ]
    },
    {
     "data": {
      "text/plain": [
       "0.7965443541284571"
      ]
     },
     "execution_count": 30,
     "metadata": {},
     "output_type": "execute_result"
    }
   ],
   "source": [
    "# a funcao vai pegar uma funcao f, extremos de um intervalo a, b e N será o\n",
    "# número máximo de iterações que serão realizadas\n",
    "def bisseccao(f,a,b,N):\n",
    "\n",
    "    if f(a)*f(b) >= 0:\n",
    "        print(\"Falha, escolha outro intervalo.\")\n",
    "        return None\n",
    "    a_n = a\n",
    "    b_n = b\n",
    "    for n in range(1,N+1):\n",
    "        m_n = (a_n + b_n)/2\n",
    "        f_m_n = f(m_n)\n",
    "        if f(a_n)*f_m_n < 0:\n",
    "            a_n = a_n\n",
    "            b_n = m_n\n",
    "        elif f(b_n)*f_m_n < 0:\n",
    "            a_n = m_n\n",
    "            b_n = b_n\n",
    "        elif f_m_n == 0:\n",
    "            print(\"Solução encontrada!\")\n",
    "            return m_n\n",
    "        else:\n",
    "            print(\"O método falhou.\")\n",
    "            return None\n",
    "    return (a_n + b_n)/2\n",
    "\n",
    "# vamos testar com o nosso polinômio, fazendo 50 iterações no intervalo [0,1]\n",
    "f = lambda x: x**7 +x - 1\n",
    "bisseccao(f,0,1,50)"
   ]
  },
  {
   "cell_type": "markdown",
   "id": "e4241878",
   "metadata": {},
   "source": [
    "Veja que após 50 iterações, chegamos numa boa aproximação para a solução. Veja abaixo um gráfico da função $f(x)$, que \"comprova\" a existência do zero."
   ]
  },
  {
   "cell_type": "code",
   "execution_count": 31,
   "id": "e9a6ece9",
   "metadata": {},
   "outputs": [
    {
     "data": {
      "image/png": "[encoded data removed]",
      "text/plain": [
       "<Figure size 432x288 with 1 Axes>"
      ]
     },
     "metadata": {
      "needs_background": "light"
     },
     "output_type": "display_data"
    },
    {
     "data": {
      "text/plain": [
       "<sympy.plotting.plot.Plot at 0x7f79b8fe2730>"
      ]
     },
     "execution_count": 31,
     "metadata": {},
     "output_type": "execute_result"
    }
   ],
   "source": [
    "import sympy as sp\n",
    "x = sp.symbols('x')\n",
    "sp.plot(x**7+x-1,(x,0,1),ylim=[-1,1])"
   ]
  }
 ],
 "metadata": {
  "author": "Ricardo Miranda Martins",
  "kernelspec": {
   "display_name": "Python 3 (ipykernel)",
   "language": "python",
   "name": "python3"
  },
  "language_info": {
   "codemirror_mode": {
    "name": "ipython",
    "version": 3
   },
   "file_extension": ".py",
   "mimetype": "text/x-python",
   "name": "python",
   "nbconvert_exporter": "python",
   "pygments_lexer": "ipython3",
   "version": "3.9.7"
  },
  "title": "Tutorial rápido de Python para Matemáticos",
  "toc": {
   "base_numbering": 1,
   "nav_menu": {},
   "number_sections": true,
   "sideBar": true,
   "skip_h1_title": false,
   "title_cell": "Table of Contents",
   "title_sidebar": "Contents",
   "toc_cell": true,
   "toc_position": {},
   "toc_section_display": true,
   "toc_window_display": false
  }
 },
 "nbformat": 4,
 "nbformat_minor": 5
}
