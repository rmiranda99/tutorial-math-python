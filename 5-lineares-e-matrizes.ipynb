{
 "cells": [
  {
   "cell_type": "markdown",
   "id": "96b029d8",
   "metadata": {},
   "source": [
    "\n",
    "# Tutorial rápido de Python para Matemáticos\n",
    "\n",
    "&copy; Ricardo Miranda Martins, 2022 - http://www.ime.unicamp.br/~rmiranda/\n",
    "\n",
    "## Índice\n",
    "\n",
    "1. [Introdução](1-intro.html) \n",
    "2. [Python é uma boa calculadora!](2-calculadora.html) [(código fonte)](2-calculadora.ipynb)\n",
    "3. [Resolvendo equações](3-resolvendo-eqs.html)  [(código fonte)](3-resolvendo-eqs.ipynb)\n",
    "4. [Gráficos](4-graficos.html)  [(código fonte)](4-graficos.ipynb)\n",
    "5. [Sistemas lineares e matrizes](5-lineares-e-matrizes.html)  [(código fonte)](5-lineares-e-matrizes.ipynb)\n",
    "6. [Limites, derivadas e integrais](6-limites-derivadas-integrais.html)  [(código fonte)](6-limites-derivadas-integrais.ipynb)\n",
    "7. [Equações direrenciais](7-equacoes-diferenciais.html)  [(código fonte)](7-equacoes-diferenciais.ipynb)\n",
    "\n"
   ]
  },
  {
   "cell_type": "markdown",
   "id": "37d6b5fb",
   "metadata": {},
   "source": [
    "# Resolvendo sistemas lineares\n",
    "\n",
    "Resolver sistemas lineares é o ganha pão de matemáticos. Aliás, você sabe por quê dedicamos tanto tempo ensinando alunos a resolverem sistemas lineares? Simples: é que não sabemos direito resolver os não-lineares.\n",
    "\n",
    "Existem basicamente duas formas do Python resolver sistemas lineares: pelo comando tradicional ```solve``` do SymPy ou pelo comando específico para sistemas lineares, o ```linsolve```. Essa segunda forma é mais rápida se o sistema for muito grande. No entanto, como você já deve imaginar, resolver sistemas lineares usando o NumPy é ainda mais rápido do que usando o SymPy.\n",
    "\n",
    "Para sistemas muito grandes (muito mais que 1000 equações/variáveis), existem outros pacotes mais eficientes - se for seu caso, imagino que você não esteja aprendendo Python aqui nesse tutorial.\n",
    "\n",
    "A rotina abaixo resolve o sistema\n",
    "\n",
    "$$\\left\\{\\begin{array}{lcl}\n",
    "x+y-2z&=&1,\\\\\n",
    "x+y-z&=&3,\\\\\n",
    "3x+y-z&=&3\n",
    "\\end{array}\\right.$$\n",
    "usando o ```linsolve``` do SymPy."
   ]
  },
  {
   "cell_type": "code",
   "execution_count": 40,
   "id": "580180ab",
   "metadata": {},
   "outputs": [
    {
     "data": {
      "text/latex": [
       "$\\displaystyle \\left\\{\\left( 0, \\  5, \\  2\\right)\\right\\}$"
      ],
      "text/plain": [
       "{(0, 5, 2)}"
      ]
     },
     "execution_count": 40,
     "metadata": {},
     "output_type": "execute_result"
    }
   ],
   "source": [
    "import sympy as sp\n",
    "x, y, z = sp.symbols('x y z')\n",
    "\n",
    "eq1=sp.Eq(x+y-2*z,1)\n",
    "eq2=sp.Eq(x+y-z,3)\n",
    "eq3=sp.Eq(3*x+y-z,3)\n",
    "\n",
    "sp.linsolve((eq1,eq2,eq3),(x,y,z))"
   ]
  },
  {
   "cell_type": "markdown",
   "id": "35cdb398",
   "metadata": {},
   "source": [
    "Se quisermos a solução num outro formato, podemos usar o ```solve```:"
   ]
  },
  {
   "cell_type": "code",
   "execution_count": 41,
   "id": "26068c64",
   "metadata": {},
   "outputs": [
    {
     "data": {
      "text/plain": [
       "{x: 0, y: 5, z: 2}"
      ]
     },
     "execution_count": 41,
     "metadata": {},
     "output_type": "execute_result"
    }
   ],
   "source": [
    "sp.solve((eq1,eq2,eq3),(x,y,z))"
   ]
  },
  {
   "cell_type": "markdown",
   "id": "a5af9dac",
   "metadata": {},
   "source": [
    "## Um exercício legal para testar nossos conhecimentos\n",
    "\n"
   ]
  },
  {
   "cell_type": "markdown",
   "id": "82efcb9e",
   "metadata": {},
   "source": [
    "Sejam $P=(\\alpha_1,\\beta_1,\\gamma_1)$, $Q=(\\alpha_2,\\beta_2,\\gamma_2)$ e $R=(\\alpha_3,\\beta_3,\\gamma_3)$ pontos não-colineares em $\\mathbb R^3.$ Encontre a equação do plano $\\pi$, da forma $ax+by+cz=d$, que contém estes três pontos.\n",
    "\n",
    "Primeiro vamos a uma solução \"algébrica\", levando em conta a equação do plano. Vamos usar os valores $P=(0,0,1)$, $Q=(3,1,0)$ e $R=(0,2,2)$ no exemplo abaixo."
   ]
  },
  {
   "cell_type": "code",
   "execution_count": 42,
   "id": "5f3d8a21",
   "metadata": {},
   "outputs": [
    {
     "data": {
      "text/latex": [
       "$\\displaystyle \\frac{d x}{2} - \\frac{d y}{2} + d z = d$"
      ],
      "text/plain": [
       "Eq(d*x/2 - d*y/2 + d*z, d)"
      ]
     },
     "execution_count": 42,
     "metadata": {},
     "output_type": "execute_result"
    }
   ],
   "source": [
    "import sympy as sp\n",
    "\n",
    "# define as variaveis e constantes que vamos usar\n",
    "x, y, z = sp.symbols('x y z')\n",
    "a, b, c, d = sp.symbols('a b c d')\n",
    "\n",
    "# equacao do plano na forma geral\n",
    "eq = sp.Eq(a*x+b*y+c*z,d)\n",
    "\n",
    "# definindo os pontos\n",
    "P=sp.Array([0,0,1])\n",
    "Q=sp.Array([3,1,0])\n",
    "R=sp.Array([0,2,2])\n",
    "\n",
    "# substituindo x,y,z na equacao do plano pelos pontos\n",
    "eq1=eq.subs([(x,P[0]),(y,P[1]),(z,P[2])])\n",
    "eq2=eq.subs([(x,Q[0]),(y,Q[1]),(z,Q[2])])\n",
    "eq3=eq.subs([(x,R[0]),(y,R[1]),(z,R[2])])\n",
    "\n",
    "# as equacoes acima resultam num sistema nas variaveis a, b, c, d.\n",
    "# resolvendo o sistema:\n",
    "sol=sp.linsolve((eq1,eq2,eq3),(a,b,c,d))\n",
    "\n",
    "#armazenando as solucoes\n",
    "(A,B,C,D)=tuple(*sol)\n",
    "\n",
    "# finalmente, exibindo a equação do plano, substituindo a,b,c,d pelos\n",
    "# valores que encontramos\n",
    "eq.subs([(a,A),(b,B),(c,C),(d,D)])\n"
   ]
  },
  {
   "cell_type": "markdown",
   "id": "9bd49ecb",
   "metadata": {},
   "source": [
    "A solução acima fica na dependência de uma constante, no caso $d$. Pode-se substituir qualquer valor para $d$.\n",
    "\n",
    "Agora vamos a uma solução um pouco mais geométrica. Vamos obter o vetor normal do plano como sendo o produto vetorial $n=u\\times v$, onde $u=PQ$ e $v=PR$. A seguir, obtemos a equação do plano utilizando um dos pontos por onde ele passa. A solução é mais longa, porém é bem mais elegante e evita o aparecimento de constantes indesejadas."
   ]
  },
  {
   "cell_type": "code",
   "execution_count": 43,
   "id": "327813c0",
   "metadata": {},
   "outputs": [
    {
     "data": {
      "text/latex": [
       "$\\displaystyle 3 x - 3 y + 6 z = 6$"
      ],
      "text/plain": [
       "Eq(3*x - 3*y + 6*z, 6)"
      ]
     },
     "execution_count": 43,
     "metadata": {},
     "output_type": "execute_result"
    }
   ],
   "source": [
    "# importando a biblioteca para calculos simbolicos\n",
    "import sympy as sp\n",
    "\n",
    "# vamos usar a biblioteca NumPy para calcular o produto vetorial e tambem\n",
    "# o produto interno\n",
    "import numpy as np\n",
    "\n",
    "# define as variaveis e constantes que vamos usar\n",
    "x, y, z = sp.symbols('x y z')\n",
    "a, b, c, d = sp.symbols('a b c d')\n",
    "\n",
    "# equacao do plano na forma geral\n",
    "eq = sp.Eq(a*x+b*y+c*z,d)\n",
    "\n",
    "# definindo os pontos\n",
    "P=sp.Array([0,0,1])\n",
    "Q=sp.Array([3,1,0])\n",
    "R=sp.Array([0,2,2])\n",
    "\n",
    "# criando os vetores\n",
    "u=Q-P\n",
    "v=R-P\n",
    "\n",
    "# obtendo o vetor normal\n",
    "n=np.cross(u,v)\n",
    "(a,b,c)=n\n",
    "\n",
    "# termo nao-homogeneo\n",
    "d=np.dot(n,P)\n",
    "\n",
    "# exibindo a equação do plano\n",
    "sp.Eq(a*x+b*y+c*z,d)"
   ]
  },
  {
   "cell_type": "markdown",
   "id": "48efe4c8",
   "metadata": {},
   "source": [
    "# Matrizes\n",
    "\n",
    "Claro que poderíamos ter mesclado os capítulos sobre matrizes e sistemas lineares. Só deixamos separado para poder explorar um pouco melhor as propriedades desses retângulos cheios de números que nós adoramos.\n",
    "\n",
    "Aliás, você sabe de onde vem a regra estranha de multiplicar matrizes? Vem da composição de operadores lineares. O Python trabalha com matrizes muito bem. Só devemos ter um pouco de cuidado com a notação.\n",
    "\n",
    "Vamos fixar a notação e trabalhar abaixo com as matrizes $$A=\\begin{pmatrix}1&2\\\\ -3&1\\end{pmatrix},$$ $$B=\\begin{pmatrix}2\\\\ 4\\end{pmatrix}$$ e\n",
    "$$C=\\begin{pmatrix}2&5\\\\1&1\\end{pmatrix}$$ \n",
    "em nossos exemplos."
   ]
  },
  {
   "cell_type": "code",
   "execution_count": 44,
   "id": "2b95fa7b",
   "metadata": {},
   "outputs": [],
   "source": [
    "import sympy as sp\n",
    "\n",
    "A=sp.Matrix([[1,2],[-3,1]])\n",
    "B=sp.Matrix([[2],[4]])\n",
    "C=sp.Matrix([[2,5],[4,10]])"
   ]
  },
  {
   "cell_type": "code",
   "execution_count": 45,
   "id": "3b3d5597",
   "metadata": {},
   "outputs": [
    {
     "data": {
      "text/latex": [
       "$\\displaystyle \\left[\\begin{matrix}1 & 2\\\\-3 & 1\\end{matrix}\\right]$"
      ],
      "text/plain": [
       "Matrix([\n",
       "[ 1, 2],\n",
       "[-3, 1]])"
      ]
     },
     "execution_count": 45,
     "metadata": {},
     "output_type": "execute_result"
    }
   ],
   "source": [
    "A"
   ]
  },
  {
   "cell_type": "code",
   "execution_count": 46,
   "id": "e3d32218",
   "metadata": {},
   "outputs": [
    {
     "data": {
      "text/latex": [
       "$\\displaystyle \\left[\\begin{matrix}2\\\\4\\end{matrix}\\right]$"
      ],
      "text/plain": [
       "Matrix([\n",
       "[2],\n",
       "[4]])"
      ]
     },
     "execution_count": 46,
     "metadata": {},
     "output_type": "execute_result"
    }
   ],
   "source": [
    "B"
   ]
  },
  {
   "cell_type": "code",
   "execution_count": 47,
   "id": "9db478d6",
   "metadata": {},
   "outputs": [
    {
     "data": {
      "text/latex": [
       "$\\displaystyle \\left[\\begin{matrix}2 & 5\\\\4 & 10\\end{matrix}\\right]$"
      ],
      "text/plain": [
       "Matrix([\n",
       "[2,  5],\n",
       "[4, 10]])"
      ]
     },
     "execution_count": 47,
     "metadata": {},
     "output_type": "execute_result"
    }
   ],
   "source": [
    "C"
   ]
  },
  {
   "cell_type": "markdown",
   "id": "a5ca4e50",
   "metadata": {},
   "source": [
    "Algumas matrizes especiais podem ser criadas de modo mais simples. Por exemplo, a identidade $n\\times n$ pode ser criada com o comando ```eye(n)```."
   ]
  },
  {
   "cell_type": "code",
   "execution_count": 48,
   "id": "99852d86",
   "metadata": {},
   "outputs": [
    {
     "data": {
      "text/latex": [
       "$\\displaystyle \\left[\\begin{matrix}1 & 0\\\\0 & 1\\end{matrix}\\right]$"
      ],
      "text/plain": [
       "Matrix([\n",
       "[1, 0],\n",
       "[0, 1]])"
      ]
     },
     "execution_count": 48,
     "metadata": {},
     "output_type": "execute_result"
    }
   ],
   "source": [
    "sp.eye(2)"
   ]
  },
  {
   "cell_type": "markdown",
   "id": "83e104d4",
   "metadata": {},
   "source": [
    "Já a matriz nula $m\\times n$ pode ser criada com o comando ```zeros(m,n)```:"
   ]
  },
  {
   "cell_type": "code",
   "execution_count": 49,
   "id": "7770e4cf",
   "metadata": {},
   "outputs": [
    {
     "data": {
      "text/latex": [
       "$\\displaystyle \\left[\\begin{matrix}0 & 0\\\\0 & 0\\end{matrix}\\right]$"
      ],
      "text/plain": [
       "Matrix([\n",
       "[0, 0],\n",
       "[0, 0]])"
      ]
     },
     "execution_count": 49,
     "metadata": {},
     "output_type": "execute_result"
    }
   ],
   "source": [
    "sp.zeros(2,2)"
   ]
  },
  {
   "cell_type": "markdown",
   "id": "805ecb0c",
   "metadata": {},
   "source": [
    "Podemos também criar de modo muito fácil uma matriz $m\\times n$ só com 1's com o comando ```ones(m,n)```:"
   ]
  },
  {
   "cell_type": "code",
   "execution_count": 50,
   "id": "fff8876b",
   "metadata": {},
   "outputs": [
    {
     "data": {
      "text/latex": [
       "$\\displaystyle \\left[\\begin{matrix}1 & 1\\\\1 & 1\\end{matrix}\\right]$"
      ],
      "text/plain": [
       "Matrix([\n",
       "[1, 1],\n",
       "[1, 1]])"
      ]
     },
     "execution_count": 50,
     "metadata": {},
     "output_type": "execute_result"
    }
   ],
   "source": [
    "sp.ones(2,2)"
   ]
  },
  {
   "cell_type": "markdown",
   "id": "ebe5ad55",
   "metadata": {},
   "source": [
    "O produto de matrizes é feito com o mesmo símbolo usual: para obter o produto de A por B, o comando é ```A*B```:"
   ]
  },
  {
   "cell_type": "code",
   "execution_count": 51,
   "id": "cca0632f",
   "metadata": {},
   "outputs": [
    {
     "data": {
      "text/latex": [
       "$\\displaystyle \\left[\\begin{matrix}10 & 25\\\\-2 & -5\\end{matrix}\\right]$"
      ],
      "text/plain": [
       "Matrix([\n",
       "[10, 25],\n",
       "[-2, -5]])"
      ]
     },
     "execution_count": 51,
     "metadata": {},
     "output_type": "execute_result"
    }
   ],
   "source": [
    "A*C"
   ]
  },
  {
   "cell_type": "code",
   "execution_count": 52,
   "id": "69dc11df",
   "metadata": {},
   "outputs": [
    {
     "data": {
      "text/latex": [
       "$\\displaystyle \\left[\\begin{matrix}10\\\\-2\\end{matrix}\\right]$"
      ],
      "text/plain": [
       "Matrix([\n",
       "[10],\n",
       "[-2]])"
      ]
     },
     "execution_count": 52,
     "metadata": {},
     "output_type": "execute_result"
    }
   ],
   "source": [
    "A*B"
   ]
  },
  {
   "cell_type": "markdown",
   "id": "fb008c6e",
   "metadata": {},
   "source": [
    "Lembre-se que nem sempre dá para multiplicar duas matrizes - só podemos multiplicar uma matriz $m\\times n$ por uma $n\\times r$. Se tentarmos com matrizes de dimensões \"estranhas\", vai dar erro:"
   ]
  },
  {
   "cell_type": "code",
   "execution_count": 53,
   "id": "a8a8a827",
   "metadata": {},
   "outputs": [
    {
     "ename": "ShapeError",
     "evalue": "Matrix size mismatch: (2, 1) * (2, 2).",
     "output_type": "error",
     "traceback": [
      "\u001b[0;31m---------------------------------------------------------------------------\u001b[0m",
      "\u001b[0;31mShapeError\u001b[0m                                Traceback (most recent call last)",
      "\u001b[0;32m/var/folders/90/lb7fswt93477cpj1pl8z494m0000gn/T/ipykernel_41171/3451148411.py\u001b[0m in \u001b[0;36m<module>\u001b[0;34m\u001b[0m\n\u001b[0;32m----> 1\u001b[0;31m \u001b[0mB\u001b[0m\u001b[0;34m*\u001b[0m\u001b[0mA\u001b[0m\u001b[0;34m\u001b[0m\u001b[0;34m\u001b[0m\u001b[0m\n\u001b[0m",
      "\u001b[0;32m~/opt/anaconda3/lib/python3.9/site-packages/sympy/core/decorators.py\u001b[0m in \u001b[0;36mbinary_op_wrapper\u001b[0;34m(self, other)\u001b[0m\n\u001b[1;32m    134\u001b[0m                     \u001b[0;32mif\u001b[0m \u001b[0mf\u001b[0m \u001b[0;32mis\u001b[0m \u001b[0;32mnot\u001b[0m \u001b[0;32mNone\u001b[0m\u001b[0;34m:\u001b[0m\u001b[0;34m\u001b[0m\u001b[0;34m\u001b[0m\u001b[0m\n\u001b[1;32m    135\u001b[0m                         \u001b[0;32mreturn\u001b[0m \u001b[0mf\u001b[0m\u001b[0;34m(\u001b[0m\u001b[0mself\u001b[0m\u001b[0;34m)\u001b[0m\u001b[0;34m\u001b[0m\u001b[0;34m\u001b[0m\u001b[0m\n\u001b[0;32m--> 136\u001b[0;31m             \u001b[0;32mreturn\u001b[0m \u001b[0mfunc\u001b[0m\u001b[0;34m(\u001b[0m\u001b[0mself\u001b[0m\u001b[0;34m,\u001b[0m \u001b[0mother\u001b[0m\u001b[0;34m)\u001b[0m\u001b[0;34m\u001b[0m\u001b[0;34m\u001b[0m\u001b[0m\n\u001b[0m\u001b[1;32m    137\u001b[0m         \u001b[0;32mreturn\u001b[0m \u001b[0mbinary_op_wrapper\u001b[0m\u001b[0;34m\u001b[0m\u001b[0;34m\u001b[0m\u001b[0m\n\u001b[1;32m    138\u001b[0m     \u001b[0;32mreturn\u001b[0m \u001b[0mpriority_decorator\u001b[0m\u001b[0;34m\u001b[0m\u001b[0;34m\u001b[0m\u001b[0m\n",
      "\u001b[0;32m~/opt/anaconda3/lib/python3.9/site-packages/sympy/matrices/common.py\u001b[0m in \u001b[0;36m__mul__\u001b[0;34m(self, other)\u001b[0m\n\u001b[1;32m   2761\u001b[0m         \"\"\"\n\u001b[1;32m   2762\u001b[0m \u001b[0;34m\u001b[0m\u001b[0m\n\u001b[0;32m-> 2763\u001b[0;31m         \u001b[0;32mreturn\u001b[0m \u001b[0mself\u001b[0m\u001b[0;34m.\u001b[0m\u001b[0mmultiply\u001b[0m\u001b[0;34m(\u001b[0m\u001b[0mother\u001b[0m\u001b[0;34m)\u001b[0m\u001b[0;34m\u001b[0m\u001b[0;34m\u001b[0m\u001b[0m\n\u001b[0m\u001b[1;32m   2764\u001b[0m \u001b[0;34m\u001b[0m\u001b[0m\n\u001b[1;32m   2765\u001b[0m     \u001b[0;32mdef\u001b[0m \u001b[0mmultiply\u001b[0m\u001b[0;34m(\u001b[0m\u001b[0mself\u001b[0m\u001b[0;34m,\u001b[0m \u001b[0mother\u001b[0m\u001b[0;34m,\u001b[0m \u001b[0mdotprodsimp\u001b[0m\u001b[0;34m=\u001b[0m\u001b[0;32mNone\u001b[0m\u001b[0;34m)\u001b[0m\u001b[0;34m:\u001b[0m\u001b[0;34m\u001b[0m\u001b[0;34m\u001b[0m\u001b[0m\n",
      "\u001b[0;32m~/opt/anaconda3/lib/python3.9/site-packages/sympy/matrices/common.py\u001b[0m in \u001b[0;36mmultiply\u001b[0;34m(self, other, dotprodsimp)\u001b[0m\n\u001b[1;32m   2783\u001b[0m              getattr(other, 'is_MatrixLike', True))):\n\u001b[1;32m   2784\u001b[0m             \u001b[0;32mif\u001b[0m \u001b[0mself\u001b[0m\u001b[0;34m.\u001b[0m\u001b[0mshape\u001b[0m\u001b[0;34m[\u001b[0m\u001b[0;36m1\u001b[0m\u001b[0;34m]\u001b[0m \u001b[0;34m!=\u001b[0m \u001b[0mother\u001b[0m\u001b[0;34m.\u001b[0m\u001b[0mshape\u001b[0m\u001b[0;34m[\u001b[0m\u001b[0;36m0\u001b[0m\u001b[0;34m]\u001b[0m\u001b[0;34m:\u001b[0m\u001b[0;34m\u001b[0m\u001b[0;34m\u001b[0m\u001b[0m\n\u001b[0;32m-> 2785\u001b[0;31m                 raise ShapeError(\"Matrix size mismatch: %s * %s.\" % (\n\u001b[0m\u001b[1;32m   2786\u001b[0m                     self.shape, other.shape))\n\u001b[1;32m   2787\u001b[0m \u001b[0;34m\u001b[0m\u001b[0m\n",
      "\u001b[0;31mShapeError\u001b[0m: Matrix size mismatch: (2, 1) * (2, 2)."
     ]
    }
   ],
   "source": [
    "B*A"
   ]
  },
  {
   "cell_type": "markdown",
   "id": "4ca10bb0",
   "metadata": {},
   "source": [
    "Lembre-se também que o produto de matrizes não é comutativo, ou seja, $A\\cdot C$ pode ser diferente de $C\\cdot A$, ou seja, $AC-CA$ pode ser diferente de zero:"
   ]
  },
  {
   "cell_type": "code",
   "execution_count": 54,
   "id": "88f60f71",
   "metadata": {},
   "outputs": [
    {
     "data": {
      "text/latex": [
       "$\\displaystyle \\left[\\begin{matrix}23 & 16\\\\24 & -23\\end{matrix}\\right]$"
      ],
      "text/plain": [
       "Matrix([\n",
       "[23,  16],\n",
       "[24, -23]])"
      ]
     },
     "execution_count": 54,
     "metadata": {},
     "output_type": "execute_result"
    }
   ],
   "source": [
    "A*C-C*A"
   ]
  },
  {
   "cell_type": "markdown",
   "id": "0ddc3efb",
   "metadata": {},
   "source": [
    "Se $A$ é uma matriz quadrada, dizemos que ela é invertível se existe outra matriz $D$ tal que $AD=DA=I_{2\\times 2}$. Essa matriz $D$ é chamada de matriz inversa de $A$ e denotada por $D=A^{-1}$. Nem toda matriz admite inversa, mas quando a inversa existe ela pode ser calculada no Python com o comando ```A**(-1)```:"
   ]
  },
  {
   "cell_type": "code",
   "execution_count": 55,
   "id": "b78a1bba",
   "metadata": {},
   "outputs": [
    {
     "data": {
      "text/latex": [
       "$\\displaystyle \\left[\\begin{matrix}\\frac{1}{7} & - \\frac{2}{7}\\\\\\frac{3}{7} & \\frac{1}{7}\\end{matrix}\\right]$"
      ],
      "text/plain": [
       "Matrix([\n",
       "[1/7, -2/7],\n",
       "[3/7,  1/7]])"
      ]
     },
     "execution_count": 55,
     "metadata": {},
     "output_type": "execute_result"
    }
   ],
   "source": [
    "A**(-1)"
   ]
  },
  {
   "cell_type": "markdown",
   "id": "ea209d28",
   "metadata": {},
   "source": [
    "Uma propriedade das matrizes que tem inversa é que ela tem o determinante diferente de zero. O determinante é uma \"propriedade\" da matriz, então podemos \"resgatar\" o determinante de $A$ com o sufixo ```A.det()```:"
   ]
  },
  {
   "cell_type": "code",
   "execution_count": 56,
   "id": "52a25007",
   "metadata": {},
   "outputs": [
    {
     "data": {
      "text/latex": [
       "$\\displaystyle 7$"
      ],
      "text/plain": [
       "7"
      ]
     },
     "execution_count": 56,
     "metadata": {},
     "output_type": "execute_result"
    }
   ],
   "source": [
    "A.det()"
   ]
  },
  {
   "cell_type": "markdown",
   "id": "6118f912",
   "metadata": {},
   "source": [
    "A mesma lógica é seguida se quisermos os autovalores ou autovetores da matriz:"
   ]
  },
  {
   "cell_type": "code",
   "execution_count": 57,
   "id": "f5580184",
   "metadata": {},
   "outputs": [
    {
     "data": {
      "text/plain": [
       "{1 - sqrt(6)*I: 1, 1 + sqrt(6)*I: 1}"
      ]
     },
     "execution_count": 57,
     "metadata": {},
     "output_type": "execute_result"
    }
   ],
   "source": [
    "A.eigenvals()"
   ]
  },
  {
   "cell_type": "code",
   "execution_count": 58,
   "id": "149f65f7",
   "metadata": {},
   "outputs": [
    {
     "data": {
      "text/plain": [
       "[(1 - sqrt(6)*I,\n",
       "  1,\n",
       "  [Matrix([\n",
       "   [sqrt(6)*I/3],\n",
       "   [          1]])]),\n",
       " (1 + sqrt(6)*I,\n",
       "  1,\n",
       "  [Matrix([\n",
       "   [-sqrt(6)*I/3],\n",
       "   [           1]])])]"
      ]
     },
     "execution_count": 58,
     "metadata": {},
     "output_type": "execute_result"
    }
   ],
   "source": [
    "A.eigenvects()"
   ]
  },
  {
   "cell_type": "markdown",
   "id": "85705fb2",
   "metadata": {},
   "source": [
    "Se você achou a saída do comando acima um pouco feia, talvez prefira usar o ```pprint``` (pretty print):"
   ]
  },
  {
   "cell_type": "code",
   "execution_count": 59,
   "id": "58a06f8c",
   "metadata": {},
   "outputs": [
    {
     "data": {
      "image/png": "[encoded data removed]",
      "text/latex": [
       "$\\displaystyle \\left[ \\left( 1 - \\sqrt{6} i, \\  1, \\  \\left[ \\left[\\begin{matrix}\\frac{\\sqrt{6} i}{3}\\\\1\\end{matrix}\\right]\\right]\\right), \\  \\left( 1 + \\sqrt{6} i, \\  1, \\  \\left[ \\left[\\begin{matrix}- \\frac{\\sqrt{6} i}{3}\\\\1\\end{matrix}\\right]\\right]\\right)\\right]$"
      ],
      "text/plain": [
       "⎡⎛             ⎡⎡√6⋅ⅈ⎤⎤⎞  ⎛             ⎡⎡-√6⋅ⅈ ⎤⎤⎞⎤\n",
       "⎢⎜             ⎢⎢────⎥⎥⎟  ⎜             ⎢⎢──────⎥⎥⎟⎥\n",
       "⎢⎜1 - √6⋅ⅈ, 1, ⎢⎢ 3  ⎥⎥⎟, ⎜1 + √6⋅ⅈ, 1, ⎢⎢  3   ⎥⎥⎟⎥\n",
       "⎢⎜             ⎢⎢    ⎥⎥⎟  ⎜             ⎢⎢      ⎥⎥⎟⎥\n",
       "⎣⎝             ⎣⎣ 1  ⎦⎦⎠  ⎝             ⎣⎣  1   ⎦⎦⎠⎦"
      ]
     },
     "execution_count": 59,
     "metadata": {},
     "output_type": "execute_result"
    }
   ],
   "source": [
    "sp.init_printing(use_unicode=True)\n",
    "A.eigenvects()"
   ]
  },
  {
   "cell_type": "markdown",
   "id": "127838e5",
   "metadata": {},
   "source": [
    "Agora sim, dá pra entender né? A saída é composta pelo autovalor, sua multiplicidade, e o(s) autovetor(es) associado(s). Vamos fazer um exemplo $3\\times 3$ que tem um autovalor de multiplicidade 2 para ilustrar melhor isso:"
   ]
  },
  {
   "cell_type": "code",
   "execution_count": 60,
   "id": "578655d4",
   "metadata": {},
   "outputs": [
    {
     "data": {
      "image/png": "[encoded data removed]",
      "text/latex": [
       "$\\displaystyle \\left[ \\left( 1, \\  1, \\  \\left[ \\left[\\begin{matrix}0\\\\0\\\\1\\end{matrix}\\right]\\right]\\right), \\  \\left( 3, \\  2, \\  \\left[ \\left[\\begin{matrix}1\\\\0\\\\0\\end{matrix}\\right], \\  \\left[\\begin{matrix}0\\\\2\\\\1\\end{matrix}\\right]\\right]\\right)\\right]$"
      ],
      "text/plain": [
       "⎡⎛      ⎡⎡0⎤⎤⎞  ⎛      ⎡⎡1⎤  ⎡0⎤⎤⎞⎤\n",
       "⎢⎜      ⎢⎢ ⎥⎥⎟  ⎜      ⎢⎢ ⎥  ⎢ ⎥⎥⎟⎥\n",
       "⎢⎜1, 1, ⎢⎢0⎥⎥⎟, ⎜3, 2, ⎢⎢0⎥, ⎢2⎥⎥⎟⎥\n",
       "⎢⎜      ⎢⎢ ⎥⎥⎟  ⎜      ⎢⎢ ⎥  ⎢ ⎥⎥⎟⎥\n",
       "⎣⎝      ⎣⎣1⎦⎦⎠  ⎝      ⎣⎣0⎦  ⎣1⎦⎦⎠⎦"
      ]
     },
     "execution_count": 60,
     "metadata": {},
     "output_type": "execute_result"
    }
   ],
   "source": [
    "M=sp.Matrix([[3,0,0],[0,3,0],[0,1,1]])\n",
    "M.eigenvects()"
   ]
  },
  {
   "cell_type": "markdown",
   "id": "bb80c5e9",
   "metadata": {},
   "source": [
    "Determinar a solução do sistema linear $AX=0$ é o mesmo que calcular o \"núcleo\" da matriz $A$. Isso pode ser feito com o sufixo ```nullspace()```. Vamos fazer isso para as matrizes $A$ e $C$ para comparar os resultados:"
   ]
  },
  {
   "cell_type": "code",
   "execution_count": 61,
   "id": "76e5945c",
   "metadata": {},
   "outputs": [
    {
     "data": {
      "image/png": "[encoded data removed]",
      "text/latex": [
       "$\\displaystyle \\left[ \\right]$"
      ],
      "text/plain": [
       "[]"
      ]
     },
     "execution_count": 61,
     "metadata": {},
     "output_type": "execute_result"
    }
   ],
   "source": [
    "A.nullspace()"
   ]
  },
  {
   "cell_type": "code",
   "execution_count": 62,
   "id": "5ddfe46b",
   "metadata": {},
   "outputs": [
    {
     "data": {
      "image/png": "[encoded data removed]",
      "text/latex": [
       "$\\displaystyle \\left[ \\left[\\begin{matrix}- \\frac{5}{2}\\\\1\\end{matrix}\\right]\\right]$"
      ],
      "text/plain": [
       "⎡⎡-5/2⎤⎤\n",
       "⎢⎢    ⎥⎥\n",
       "⎣⎣ 1  ⎦⎦"
      ]
     },
     "execution_count": 62,
     "metadata": {},
     "output_type": "execute_result"
    }
   ],
   "source": [
    "C.nullspace()"
   ]
  },
  {
   "cell_type": "markdown",
   "id": "b9f13e77",
   "metadata": {},
   "source": [
    "Note que o resultado acima nos permite concluir que a matriz $C$ tem um autovalor nulo, e o autovetor associado é justamente a resposta anterior, que é o gerador do núcleo de $C$. Quer conferir? Então toma:"
   ]
  },
  {
   "cell_type": "code",
   "execution_count": 63,
   "id": "cd09204f",
   "metadata": {},
   "outputs": [
    {
     "data": {
      "image/png": "[encoded data removed]",
      "text/latex": [
       "$\\displaystyle \\left[ \\left( 0, \\  1, \\  \\left[ \\left[\\begin{matrix}- \\frac{5}{2}\\\\1\\end{matrix}\\right]\\right]\\right), \\  \\left( 12, \\  1, \\  \\left[ \\left[\\begin{matrix}\\frac{1}{2}\\\\1\\end{matrix}\\right]\\right]\\right)\\right]$"
      ],
      "text/plain": [
       "⎡⎛      ⎡⎡-5/2⎤⎤⎞  ⎛       ⎡⎡1/2⎤⎤⎞⎤\n",
       "⎢⎜0, 1, ⎢⎢    ⎥⎥⎟, ⎜12, 1, ⎢⎢   ⎥⎥⎟⎥\n",
       "⎣⎝      ⎣⎣ 1  ⎦⎦⎠  ⎝       ⎣⎣ 1 ⎦⎦⎠⎦"
      ]
     },
     "execution_count": 63,
     "metadata": {},
     "output_type": "execute_result"
    }
   ],
   "source": [
    "C.eigenvects()"
   ]
  },
  {
   "cell_type": "markdown",
   "id": "5b90ec71",
   "metadata": {},
   "source": [
    "Também podemos obter os vetores que são geradores da imagem de $A$, ou seja, se considerarmos o operador $T_A:\\mathbb R^2\\rightarrow\\mathbb R^2$, $T_A(v)\\mapsto Av$, então o sufixo ```columnspace()``` nos dará os vetores que são geradores da imagem desse operador:"
   ]
  },
  {
   "cell_type": "code",
   "execution_count": 64,
   "id": "cc7485b6",
   "metadata": {},
   "outputs": [
    {
     "data": {
      "image/png": "[encoded data removed]",
      "text/latex": [
       "$\\displaystyle \\left[ \\left[\\begin{matrix}1\\\\-3\\end{matrix}\\right], \\  \\left[\\begin{matrix}2\\\\1\\end{matrix}\\right]\\right]$"
      ],
      "text/plain": [
       "⎡⎡1 ⎤  ⎡2⎤⎤\n",
       "⎢⎢  ⎥, ⎢ ⎥⎥\n",
       "⎣⎣-3⎦  ⎣1⎦⎦"
      ]
     },
     "execution_count": 64,
     "metadata": {},
     "output_type": "execute_result"
    }
   ],
   "source": [
    "A.columnspace()"
   ]
  },
  {
   "cell_type": "code",
   "execution_count": 65,
   "id": "25432ce0",
   "metadata": {},
   "outputs": [
    {
     "data": {
      "image/png": "[encoded data removed]",
      "text/latex": [
       "$\\displaystyle \\left[ \\left[\\begin{matrix}2\\\\4\\end{matrix}\\right]\\right]$"
      ],
      "text/plain": [
       "⎡⎡2⎤⎤\n",
       "⎢⎢ ⎥⎥\n",
       "⎣⎣4⎦⎦"
      ]
     },
     "execution_count": 65,
     "metadata": {},
     "output_type": "execute_result"
    }
   ],
   "source": [
    "C.columnspace()"
   ]
  },
  {
   "cell_type": "markdown",
   "id": "176c7e53",
   "metadata": {},
   "source": [
    "Uma coisa que sempre fazemos com matrizes é calcular a sua forma de Jordan, ou, quando possível, diagonalizá-la. Isso pode ser feito com o comando ```diagonalize()```:"
   ]
  },
  {
   "cell_type": "code",
   "execution_count": 66,
   "id": "9d005b46",
   "metadata": {},
   "outputs": [
    {
     "data": {
      "image/png": "[encoded data removed]",
      "text/latex": [
       "$\\displaystyle \\left( \\left[\\begin{matrix}\\frac{\\sqrt{6} i}{3} & - \\frac{\\sqrt{6} i}{3}\\\\1 & 1\\end{matrix}\\right], \\  \\left[\\begin{matrix}1 - \\sqrt{6} i & 0\\\\0 & 1 + \\sqrt{6} i\\end{matrix}\\right]\\right)$"
      ],
      "text/plain": [
       "⎛⎡√6⋅ⅈ  -√6⋅ⅈ ⎤                      ⎞\n",
       "⎜⎢────  ──────⎥  ⎡1 - √6⋅ⅈ     0    ⎤⎟\n",
       "⎜⎢ 3      3   ⎥, ⎢                  ⎥⎟\n",
       "⎜⎢            ⎥  ⎣   0      1 + √6⋅ⅈ⎦⎟\n",
       "⎝⎣ 1      1   ⎦                      ⎠"
      ]
     },
     "execution_count": 66,
     "metadata": {},
     "output_type": "execute_result"
    }
   ],
   "source": [
    "A.diagonalize()"
   ]
  },
  {
   "cell_type": "markdown",
   "id": "86a660fa",
   "metadata": {},
   "source": [
    "Esse comando retorna duas matrizes: a primeira delas é a matriz mudança de base; a segunda é a forma diagonal da matriz. Se quisermos usar notações para essas matrizes, vamos denotar por $Q$ a matriz mudança de base e $D$ a matriz diagonal:"
   ]
  },
  {
   "cell_type": "code",
   "execution_count": 67,
   "id": "541af213",
   "metadata": {},
   "outputs": [],
   "source": [
    "Q,D = A.diagonalize()"
   ]
  },
  {
   "cell_type": "markdown",
   "id": "ec9cb9a5",
   "metadata": {},
   "source": [
    "Da teoria, sabemos que $Q\\cdot D\\cdot Q^{-1}=A$. Em geral, isso só dá certo de usarmos o ```simplify``` no produto matricial do lado esquerdo:"
   ]
  },
  {
   "cell_type": "code",
   "execution_count": 68,
   "id": "58e0b72d",
   "metadata": {},
   "outputs": [
    {
     "data": {
      "image/png": "[encoded data removed]",
      "text/latex": [
       "$\\displaystyle \\left[\\begin{matrix}1 & 2\\\\-3 & 1\\end{matrix}\\right]$"
      ],
      "text/plain": [
       "⎡1   2⎤\n",
       "⎢     ⎥\n",
       "⎣-3  1⎦"
      ]
     },
     "execution_count": 68,
     "metadata": {},
     "output_type": "execute_result"
    }
   ],
   "source": [
    "sp.simplify(Q*D*(Q**(-1)))"
   ]
  },
  {
   "cell_type": "markdown",
   "id": "ed533fa9",
   "metadata": {},
   "source": [
    "## Um exercício interessante: reconhecimento de cônicas\n",
    "\n",
    "Considere uma equação quadrática da forma $$ax^2+bxy+cy^2+dx+ey+f=0.$$\n",
    "\n",
    "Você já deve saber que a representação dos pontos $(x,y)$ que satisfaem essa equação tem uma classificação bem detalhada: basicamente, com exceção de alguns casos degenerados, teremos ou uma elipse ou uma hipérbole ou uma parábola. São as famosas \"cônicas\", curvas que são obtidas na interseção de um plano com um cone duplo.\n",
    "\n",
    "O procedimento mais comum usado para decidir qual dos casos temos, e para escrever uma equação mais \"simpática\" para essa cônica é usar autovalores e autovetores. Vamos fazer isso no exemplo abaixo.\n",
    "\n",
    "Você pode trocar a equação que deve continuar funcionando (cuidado com algumas mudanças de coordenadas e com divisões por zero que podem aparecer no processo ao alterar os coeficientes).\n",
    "\n",
    "A ideia do \"reconhecimento de cônicas\" é razoavelmente simples, mas os cálculos são bem chatos de fazer na mão.\n",
    "\n",
    "A equação $$ax^2+bxy+cy^2+dx+ey+f=0$$ pode ser reescrita em forma matricial como\n",
    "$$\\begin{pmatrix}x&y\n",
    "\\end{pmatrix}\\begin{pmatrix}a&b/2\\\\ b/2&c\\end{pmatrix}\\begin{pmatrix}x\\\\y\n",
    "\\end{pmatrix} +\\begin{pmatrix}d&e\n",
    "\\end{pmatrix}\\begin{pmatrix}x\\\\y\n",
    "\\end{pmatrix}+\\begin{pmatrix}f\\end{pmatrix}=0.$$\n",
    "\n",
    "Como a matriz $\\begin{pmatrix}f\\end{pmatrix}$ é $1\\times 1$, em geral não iremos usar a notação matricial e escrever somente $f$:\n",
    "\n",
    "$$\\begin{pmatrix}x&y\n",
    "\\end{pmatrix}\\begin{pmatrix}a&b/2\\\\ b/2&c\\end{pmatrix}\\begin{pmatrix}x\\\\y\n",
    "\\end{pmatrix} +\\begin{pmatrix}d&e\n",
    "\\end{pmatrix}\\begin{pmatrix}x\\\\y\n",
    "\\end{pmatrix}+f=0.$$\n",
    "\n",
    "Denote por $$A=\\begin{pmatrix}a&b/2\\\\ b/2&c\\end{pmatrix}.$$ Essa matriz satisfaz $A=A^t$, então pelo Teorema Espectral provado por Cauchy em 1829, existem matrizes $Q$ e $D$, sendo $D$ uma matriz diagonal, de modo que $$QD Q^{-1}=A,$$ o que é equivalente a $$D=Q^{-1}AQ.$$\n",
    "\n",
    "Podemos construir as matrizes $Q$ e $D$ assim: a matriz $D$ é a matriz diagonal com os autovalores de $A$ e a matriz $Q$ é uma matriz cujas colunas são autovetores normais (de norma 1) de $A$, satifazendo $Q^t=Q^{-1}$. Após calculá-las, realizamos a mudança de coordenadas\n",
    "\n",
    "$$\\begin{pmatrix}x\\\\y\\end{pmatrix}=Q\\begin{pmatrix}u\\\\v\\end{pmatrix}.$$\n",
    "\n",
    "Substituindo na equação da cônica, temos\n",
    "$$\\left(Q\\begin{pmatrix}u\\\\v\\end{pmatrix}\\right)^t \\begin{pmatrix}a&b/2\\\\ b/2&c\\end{pmatrix}Q\\begin{pmatrix}u\\\\v\\end{pmatrix} +\\begin{pmatrix}d&e\n",
    "\\end{pmatrix}Q\\begin{pmatrix}u\\\\v\\end{pmatrix}+f=0,$$\n",
    "ou seja,\n",
    "$$\\begin{pmatrix}u&v\n",
    "\\end{pmatrix}Q^t AQ\\begin{pmatrix}u\\\\v\\end{pmatrix} +\\begin{pmatrix}d&e\n",
    "\\end{pmatrix}Q\\begin{pmatrix}u\\\\v\\end{pmatrix}+f=0.$$\n",
    "\n",
    "Usando que $Q^tAQ=D$ a equação acima fica\n",
    "$$\\begin{pmatrix}u&v\n",
    "\\end{pmatrix}D\\begin{pmatrix}u\\\\v\\end{pmatrix} +\\begin{pmatrix}d&e\n",
    "\\end{pmatrix}Q\\begin{pmatrix}u\\\\v\\end{pmatrix}+f=0.$$\n",
    "\n",
    "Se $$D=\\begin{pmatrix}\\lambda&0\\\\0&\\mu\\end{pmatrix},$$ onde $\\lambda,\\mu$ são os autovalores de $A$, então escrevendo novamente a equação da cônica temos\n",
    "$$\\lambda u^2+\\mu v^2+\\alpha u+\\beta v+f=0,$$ para alguns valores de $\\alpha,\\beta$. O próximo passo é completar quadrados para deixar a equação mais simples. Aqui é preciso tomar cuidado, e a teoria não pode ser tão geral, pois algumas condições degeneradas podem ocorrer ($\\lambda$ ou $\\mu$ serem zero, por exemplo). Vamos supor que $\\lambda\\neq 0$, $\\mu\\neq 0$ e seguir com as contas.\n",
    "\n",
    "Reescrevemos a equação anterior como\n",
    "$$\\lambda\\left( u^2+\\dfrac{\\alpha u}{\\lambda}\\right)+\\mu \\left(v^2+\\dfrac{\\beta v}{\\mu}\\right)+f=0.$$\n",
    "\n",
    "Completando quadrados, temos\n",
    "$$\\lambda\\left( u^2+\\dfrac{\\alpha u}{\\lambda}\\right)+\\mu \\left(v^2+\\dfrac{\\beta v}{\\mu}\\right)+f=0$$\n",
    "e daí \n",
    "$$\\lambda\\left( u^2+\\dfrac{\\alpha u}{\\lambda}+ \\dfrac{\\alpha^2}{4\\lambda^2} \\right)+\\mu \\left(v^2+\\dfrac{\\beta v}{\\mu}+\\dfrac{\\beta^2}{4\\mu^2}\\right)+f-\\dfrac{\\alpha^2}{4\\lambda}-\\dfrac{\\beta^2}{4\\mu}=0.$$\n",
    "\n",
    "Agrupando tudo, ficamos com a equação\n",
    "$$\\lambda\\left( u+\\dfrac{\\alpha}{2\\lambda} \\right)^2+\\mu \\left(v+\\dfrac{\\beta}{2\\mu}\\right)^2+\\tilde f=0,$$ onde $\\tilde f=f-\\dfrac{\\alpha^2}{4\\lambda}-\\dfrac{\\beta^2}{4\\mu}$.\n",
    "\n",
    "Fazendo uma nova mudança de coordenadas para $w=u+\\dfrac{\\alpha}{2\\lambda}$, $z=v+\\dfrac{\\beta}{2\\mu}$ ficamos com a equacão $$\\lambda w^2+\\mu z^2+\\tilde f=0.$$\n",
    "\n",
    "Conhecendo os valores de $\\lambda,\\mu,\\tilde f$ poderemos reconhecer a cônica! Vamos agora fazer os cálculos de tudo isso no Python, e depois fazer alguns gráficos."
   ]
  },
  {
   "cell_type": "code",
   "execution_count": 69,
   "id": "2ddd8abe",
   "metadata": {},
   "outputs": [
    {
     "data": {
      "image/png": "[encoded data removed]",
      "text/latex": [
       "$\\displaystyle x^{2} + 2 x y + x - 3 y^{2} + 2 y - 4 = 0$"
      ],
      "text/plain": [
       " 2                  2              \n",
       "x  + 2⋅x⋅y + x - 3⋅y  + 2⋅y - 4 = 0"
      ]
     },
     "execution_count": 69,
     "metadata": {},
     "output_type": "execute_result"
    }
   ],
   "source": [
    "a=1\n",
    "b=2\n",
    "c=-3\n",
    "d=1\n",
    "e=2\n",
    "f=-4\n",
    "x, y = sp.symbols('x y')\n",
    "sp.Eq(a*x**2+b*x*y+c*y**2+d*x+e*y+f,0)"
   ]
  },
  {
   "cell_type": "markdown",
   "id": "ddd5129d",
   "metadata": {},
   "source": [
    "Vantagens do computador: vamos usar o Python pra pegar uma dica do que esperar lá no fim, plotando os pontos que satisfazem essa equação. O código abaixo é uma versão simplificada do nosso código para plotar curvas de nível (no caso, a curva de nível 0)."
   ]
  },
  {
   "cell_type": "code",
   "execution_count": 70,
   "id": "3a1a9496",
   "metadata": {},
   "outputs": [
    {
     "data": {
      "text/plain": [
       "<matplotlib.contour.QuadContourSet at 0x7f79b9335280>"
      ]
     },
     "execution_count": 70,
     "metadata": {},
     "output_type": "execute_result"
    },
    {
     "data": {
      "image/png": "[encoded data removed]",
      "text/plain": [
       "<Figure size 432x288 with 1 Axes>"
      ]
     },
     "metadata": {
      "needs_background": "light"
     },
     "output_type": "display_data"
    }
   ],
   "source": [
    "import numpy as np\n",
    "import matplotlib.cm as cm\n",
    "import matplotlib.pyplot as plt\n",
    "delta = 0.01\n",
    "x = np.arange(-4.0, 4.0, delta)\n",
    "y = np.arange(-4.0, 4.0, delta)\n",
    "x, y = np.meshgrid(x, y)\n",
    "z = a*x**2+b*x*y+c*y**2+d*x+e*y+f\n",
    "\n",
    "fig = plt.figure()\n",
    "ax = fig.add_subplot()\n",
    "ax.spines['left'].set_position('center')\n",
    "ax.spines['bottom'].set_position('center')\n",
    "ax.spines['right'].set_color('none')\n",
    "ax.spines['top'].set_color('none')\n",
    "\n",
    "plt.contour(x, y, z,0)"
   ]
  },
  {
   "cell_type": "markdown",
   "id": "80695e52",
   "metadata": {},
   "source": [
    "Humm.. me parece que teremos uma hipérbole. Isso significa que podemos esperar um autovalor positivo e um negativo. Vamos começar as contas definindo a matriz A.\n",
    "\n",
    "Aqui vamos usar um truque: queremos levar todos esses cálculos de forma algébrica, sem aproximações numéricas. Só que na definição da matriz $A$, temos um $b/2$: se digitarmos somente $b/2$, o resultado vai ser em ponto flutuante. Então vamos forçar o SymPy a usar o $b/2$ como sendo um número racional, com o comando ```Rational(b,2)```."
   ]
  },
  {
   "cell_type": "code",
   "execution_count": 71,
   "id": "ec48f0a1",
   "metadata": {},
   "outputs": [],
   "source": [
    "A=sp.Matrix([[a,sp.Rational(b, 2)],[sp.Rational(b, 2),c]])"
   ]
  },
  {
   "cell_type": "markdown",
   "id": "7a37b8e3",
   "metadata": {},
   "source": [
    "Agora vamos pedir ao Python para diagonalizar a matriz $A$, salvar a matriz diagonal como $D$ e a matriz mudança de base como $Q$:"
   ]
  },
  {
   "cell_type": "code",
   "execution_count": 72,
   "id": "07104606",
   "metadata": {},
   "outputs": [],
   "source": [
    "Q,D = A.diagonalize()"
   ]
  },
  {
   "cell_type": "markdown",
   "id": "f9b64d68",
   "metadata": {},
   "source": [
    "Conferindo como estão as matrizes:"
   ]
  },
  {
   "cell_type": "code",
   "execution_count": 73,
   "id": "b007a513",
   "metadata": {},
   "outputs": [
    {
     "data": {
      "image/png": "[encoded data removed]",
      "text/latex": [
       "$\\displaystyle \\left( \\left[\\begin{matrix}2 + \\sqrt{5} & 2 - \\sqrt{5}\\\\1 & 1\\end{matrix}\\right], \\  \\left[\\begin{matrix}-1 + \\sqrt{5} & 0\\\\0 & - \\sqrt{5} - 1\\end{matrix}\\right]\\right)$"
      ],
      "text/plain": [
       "⎛⎡2 + √5  2 - √5⎤  ⎡-1 + √5     0   ⎤⎞\n",
       "⎜⎢              ⎥, ⎢                ⎥⎟\n",
       "⎝⎣  1       1   ⎦  ⎣   0     -√5 - 1⎦⎠"
      ]
     },
     "execution_count": 73,
     "metadata": {},
     "output_type": "execute_result"
    }
   ],
   "source": [
    "Q,D"
   ]
  },
  {
   "cell_type": "markdown",
   "id": "6b58090c",
   "metadata": {},
   "source": [
    "Para que a nossa estratégia de mudança de base para reconhecimento de cônica funcione, precisamos pegar a matriz de mudança de base como sendo uma matriz cujas colunas formam uma base ortonormal de $\\mathbb R^2$. No momento temos somente uma base. Vamos então escolher outra matriz $Q$ normalizando as colunas da matriz atual. Isso pode ser feito com o comando abaixo:"
   ]
  },
  {
   "cell_type": "code",
   "execution_count": 74,
   "id": "ea400fc5",
   "metadata": {},
   "outputs": [
    {
     "data": {
      "image/png": "[encoded data removed]",
      "text/latex": [
       "$\\displaystyle \\left[\\begin{matrix}\\frac{\\sqrt{2} \\left(2 + \\sqrt{5}\\right)}{2 \\sqrt{2 \\sqrt{5} + 5}} & \\frac{\\sqrt{2} \\left(2 - \\sqrt{5}\\right)}{2 \\sqrt{5 - 2 \\sqrt{5}}}\\\\\\frac{\\sqrt{2}}{2 \\sqrt{2 \\sqrt{5} + 5}} & \\frac{\\sqrt{2}}{2 \\sqrt{5 - 2 \\sqrt{5}}}\\end{matrix}\\right]$"
      ],
      "text/plain": [
       "⎡ √2⋅(2 + √5)     √2⋅(2 - √5)  ⎤\n",
       "⎢──────────────  ──────────────⎥\n",
       "⎢    __________      __________⎥\n",
       "⎢2⋅╲╱ 2⋅√5 + 5   2⋅╲╱ 5 - 2⋅√5 ⎥\n",
       "⎢                              ⎥\n",
       "⎢      √2              √2      ⎥\n",
       "⎢──────────────  ──────────────⎥\n",
       "⎢    __________      __________⎥\n",
       "⎣2⋅╲╱ 2⋅√5 + 5   2⋅╲╱ 5 - 2⋅√5 ⎦"
      ]
     },
     "execution_count": 74,
     "metadata": {},
     "output_type": "execute_result"
    }
   ],
   "source": [
    "n1=sp.simplify(sp.sqrt(Q[0]**2+Q[2]**2))\n",
    "n2=sp.simplify(sp.sqrt(Q[1]**2+Q[3]**2))\n",
    "Q2=sp.simplify(sp.Matrix([[Q[0]/n1,Q[1]/n2],[Q[2]/n1,Q[3]/n2]]))\n",
    "Q=Q2\n",
    "Q"
   ]
  },
  {
   "cell_type": "markdown",
   "id": "ad2c5246",
   "metadata": {},
   "source": [
    "Note que agora a matriz $Q$ satisfaz o que queríamos: $Q^t=Q^{-1}$.."
   ]
  },
  {
   "cell_type": "code",
   "execution_count": 75,
   "id": "e3830628",
   "metadata": {},
   "outputs": [
    {
     "data": {
      "image/png": "[encoded data removed]",
      "text/latex": [
       "$\\displaystyle \\left[\\begin{matrix}0 & 0\\\\0 & 0\\end{matrix}\\right]$"
      ],
      "text/plain": [
       "⎡0  0⎤\n",
       "⎢    ⎥\n",
       "⎣0  0⎦"
      ]
     },
     "execution_count": 75,
     "metadata": {},
     "output_type": "execute_result"
    }
   ],
   "source": [
    "sp.simplify(Q**(-1)-Q.transpose())"
   ]
  },
  {
   "cell_type": "markdown",
   "id": "ff4e0ea2",
   "metadata": {},
   "source": [
    "... e ainda vale $Q^{-1}AQ=D$:"
   ]
  },
  {
   "cell_type": "code",
   "execution_count": 76,
   "id": "a3243f7e",
   "metadata": {},
   "outputs": [
    {
     "data": {
      "image/png": "[encoded data removed]",
      "text/latex": [
       "$\\displaystyle \\left[\\begin{matrix}-1 + \\sqrt{5} & 0\\\\0 & - \\sqrt{5} - 1\\end{matrix}\\right]$"
      ],
      "text/plain": [
       "⎡-1 + √5     0   ⎤\n",
       "⎢                ⎥\n",
       "⎣   0     -√5 - 1⎦"
      ]
     },
     "execution_count": 76,
     "metadata": {},
     "output_type": "execute_result"
    }
   ],
   "source": [
    "sp.simplify(Q**(-1)*A*Q)"
   ]
  },
  {
   "cell_type": "markdown",
   "id": "c0711f41",
   "metadata": {},
   "source": [
    "Vamos agora ver como ficou a cônica após a primeira mudança de coordenada que fizemos:"
   ]
  },
  {
   "cell_type": "code",
   "execution_count": 77,
   "id": "69777a10",
   "metadata": {},
   "outputs": [],
   "source": [
    "# aplicando a mudança de coordenadas; z2 será a nova equacao\n",
    "\n",
    "x, y = sp.symbols('x y')\n",
    "z2=sp.simplify(\n",
    "    (sp.Matrix([[x,y]])*(Q**(-1)*A*Q)*sp.Matrix([[x],[y]]))+(sp.Matrix([[d,e]]))*Q*(sp.Matrix([[x],[y]]))+sp.Matrix([[f]])\n",
    ")[0]"
   ]
  },
  {
   "cell_type": "code",
   "execution_count": 78,
   "id": "0f5fb1ee",
   "metadata": {},
   "outputs": [],
   "source": [
    "sp.init_printing(use_unicode=False)"
   ]
  },
  {
   "cell_type": "code",
   "execution_count": 79,
   "id": "527c3e06",
   "metadata": {},
   "outputs": [
    {
     "data": {
      "text/plain": [
       "'1.23606797749979*x**2 + 1.43275483056186*x - 3.23606797749979*y**2 + 1.71674505838791*y - 4.0'"
      ]
     },
     "execution_count": 79,
     "metadata": {},
     "output_type": "execute_result"
    }
   ],
   "source": [
    "# exibindo a nova equacao, e como vamos usá-la para plotar, passando tudo\n",
    "# pra ponto flutuante. você vai precisar copiar o resultado desse comando e\n",
    "# colar na próxima linha de código, no z = ....\n",
    "z3=z2.evalf()\n",
    "repr(z3)"
   ]
  },
  {
   "cell_type": "code",
   "execution_count": 80,
   "id": "a9fa1ed2",
   "metadata": {},
   "outputs": [
    {
     "data": {
      "text/plain": [
       "<matplotlib.contour.QuadContourSet at 0x7f79a850eaf0>"
      ]
     },
     "execution_count": 80,
     "metadata": {},
     "output_type": "execute_result"
    },
    {
     "data": {
      "image/png": "[encoded data removed]",
      "text/plain": [
       "<Figure size 432x288 with 1 Axes>"
      ]
     },
     "metadata": {
      "needs_background": "light"
     },
     "output_type": "display_data"
    }
   ],
   "source": [
    "import numpy as np\n",
    "import matplotlib.cm as cm\n",
    "import matplotlib.pyplot as plt\n",
    "delta = 0.01\n",
    "x = np.arange(-4.0, 4.0, delta)\n",
    "y = np.arange(-4.0, 4.0, delta)\n",
    "x, y = np.meshgrid(x, y)\n",
    "z3 = 1.23606797749979*x**2 + 1.43275483056186*x - 3.23606797749979*y**2 + 1.71674505838791*y - 4.0\n",
    "\n",
    "fig = plt.figure()\n",
    "ax = fig.add_subplot()\n",
    "ax.spines['left'].set_position('center')\n",
    "ax.spines['bottom'].set_position('center')\n",
    "ax.spines['right'].set_color('none')\n",
    "ax.spines['top'].set_color('none')\n",
    "\n",
    "plt.contour(x, y, z3,0)"
   ]
  },
  {
   "cell_type": "markdown",
   "id": "78a3eccf",
   "metadata": {},
   "source": [
    "Olha só, já conseguimos desentortar a hipérbole!! Agora só precisamos da segunda mudança de coordenadas para poder centralizá-la. Vamos precisar calcular $\\alpha$, $\\beta$ e os autovalores $\\lambda$ e $\\mu$."
   ]
  },
  {
   "cell_type": "code",
   "execution_count": 81,
   "id": "725b024f",
   "metadata": {},
   "outputs": [],
   "source": [
    "lam = D[0]\n",
    "mu = D[3]"
   ]
  },
  {
   "cell_type": "markdown",
   "id": "75e33825",
   "metadata": {},
   "source": [
    "Note que $\\alpha$ é como chamamos o coeficiente de $x$ na expressão pós-primeira mudança de coordenadas. Essa expressão pra gente está guardada na variável ```z2```. Como vamos recuperá-la? Bom, uma possibilidade é derivar essa expressão em $x$ e depois fazer todas as outras variáveis iguais a zero (pense um pouco nessa estratégia)."
   ]
  },
  {
   "cell_type": "code",
   "execution_count": 82,
   "id": "de7400d6",
   "metadata": {},
   "outputs": [],
   "source": [
    "x, y = sp.symbols('x y')\n",
    "termolinear=sp.simplify((sp.Matrix([[d,e]]))*Q*(sp.Matrix([[x],[y]])))[0]\n",
    "alfa=sp.diff(termolinear,x)\n",
    "beta=sp.diff(termolinear,y)"
   ]
  },
  {
   "cell_type": "markdown",
   "id": "0d14a31d",
   "metadata": {},
   "source": [
    "Agora já podemos plotar o gráfico final:"
   ]
  },
  {
   "cell_type": "code",
   "execution_count": 83,
   "id": "3c498f4b",
   "metadata": {},
   "outputs": [
    {
     "name": "stdout",
     "output_type": "stream",
     "text": [
      "1.23606797749979*x**2 - 3.23606797749979*y**2 - 4.1875\n"
     ]
    },
    {
     "data": {
      "text/plain": [
       "<matplotlib.contour.QuadContourSet at 0x7f79a84cd580>"
      ]
     },
     "execution_count": 83,
     "metadata": {},
     "output_type": "execute_result"
    },
    {
     "data": {
      "image/png": "[encoded data removed]",
      "text/plain": [
       "<Figure size 432x288 with 1 Axes>"
      ]
     },
     "metadata": {
      "needs_background": "light"
     },
     "output_type": "display_data"
    }
   ],
   "source": [
    "# definindo quem é f-til\n",
    "ftil=f-(alfa**2)/(4*lam)-beta**2/(4*mu)\n",
    "\n",
    "# resetando as variáveis e escrevendo a equacao final\n",
    "x, y = sp.symbols('x y')\n",
    "print((lam*x**2 + mu*y**2 +ftil).evalf())\n",
    "\n",
    "# plotando\n",
    "import numpy as np\n",
    "import matplotlib.cm as cm\n",
    "import matplotlib.pyplot as plt\n",
    "delta = 0.01\n",
    "x = np.arange(-4.0, 4.0, delta)\n",
    "y = np.arange(-4.0, 4.0, delta)\n",
    "x, y = np.meshgrid(x, y)\n",
    "z4 = 1.23606797749979*x**2 - 3.23606797749979*y**2 - 4.1875\n",
    "\n",
    "fig = plt.figure()\n",
    "ax = fig.add_subplot()\n",
    "ax.spines['left'].set_position('center')\n",
    "ax.spines['bottom'].set_position('center')\n",
    "ax.spines['right'].set_color('none')\n",
    "ax.spines['top'].set_color('none')\n",
    "\n",
    "plt.contour(x, y, z4,0)"
   ]
  },
  {
   "cell_type": "markdown",
   "id": "0ba2812a",
   "metadata": {},
   "source": [
    "Por fim, vamos plotar todas as curvas num único sistema de eixos, para você ver o que aconteceu. A curva em vermelho é a original, a curva em azul é após a mudança de coordenadas do tipo rotação, e a curva preta é após a segunda mudança de coordenadas, de translação."
   ]
  },
  {
   "cell_type": "code",
   "execution_count": 84,
   "id": "be80b94b",
   "metadata": {},
   "outputs": [
    {
     "data": {
      "image/png": "[encoded data removed]",
      "text/plain": [
       "<Figure size 432x288 with 1 Axes>"
      ]
     },
     "metadata": {
      "needs_background": "light"
     },
     "output_type": "display_data"
    }
   ],
   "source": [
    "# plotando\n",
    "import numpy as np\n",
    "import matplotlib.cm as cm\n",
    "import matplotlib.pyplot as plt\n",
    "delta = 0.01\n",
    "x = np.arange(-4.0, 4.0, delta)\n",
    "y = np.arange(-4.0, 4.0, delta)\n",
    "x, y = np.meshgrid(x, y)\n",
    "\n",
    "z = a*x**2+b*x*y+c*y**2+d*x+e*y+f\n",
    "z3 = 1.23606797749979*x**2 + 1.43275483056186*x - 3.23606797749979*y**2 + 1.71674505838791*y - 4.0\n",
    "z4 = 1.23606797749979*x**2 - 3.23606797749979*y**2 - 4.1875\n",
    "\n",
    "fig = plt.figure()\n",
    "ax = fig.add_subplot()\n",
    "ax.spines['left'].set_position('center')\n",
    "ax.spines['bottom'].set_position('center')\n",
    "ax.spines['right'].set_color('none')\n",
    "ax.spines['top'].set_color('none')\n",
    "\n",
    "plt.contour(x, y, z,0,colors=['red'])\n",
    "plt.contour(x, y, z3,0,colors=['blue'])\n",
    "plt.contour(x, y, z4,0,colors=['black'])\n",
    "plt.show()"
   ]
  },
  {
   "cell_type": "markdown",
   "id": "2a3c2ea1",
   "metadata": {},
   "source": [
    "E a equação final é:"
   ]
  },
  {
   "cell_type": "code",
   "execution_count": 85,
   "id": "27b52710",
   "metadata": {},
   "outputs": [
    {
     "data": {
      "image/png": "[encoded data removed]",
      "text/latex": [
       "$\\displaystyle x^{2} \\left(-1 + \\sqrt{5}\\right) + y^{2} \\left(- \\sqrt{5} - 1\\right) - 4 - \\frac{\\left(5 - 2 \\sqrt{5}\\right) \\left(\\sqrt{5} + 4\\right)^{2}}{10 \\left(-4 + 4 \\sqrt{5}\\right)} - \\frac{\\left(4 - \\sqrt{5}\\right)^{2} \\left(2 \\sqrt{5} + 5\\right)}{10 \\left(- 4 \\sqrt{5} - 4\\right)} = 0$"
      ],
      "text/plain": [
       "                                                                  2           \n",
       "                                         /        ___\\ /  ___    \\    /      _\n",
       " 2 /       ___\\    2 /    ___    \\       \\5 - 2*\\/ 5 /*\\\\/ 5  + 4/    \\4 - \\/ \n",
       "x *\\-1 + \\/ 5 / + y *\\- \\/ 5  - 1/ - 4 - -------------------------- - --------\n",
       "                                                /         ___\\               /\n",
       "                                             10*\\-4 + 4*\\/ 5 /            10*\\\n",
       "\n",
       "   2                  \n",
       "__\\  /    ___    \\    \n",
       "5 / *\\2*\\/ 5  + 5/    \n",
       "------------------ = 0\n",
       "      ___    \\        \n",
       "- 4*\\/ 5  - 4/        "
      ]
     },
     "execution_count": 85,
     "metadata": {},
     "output_type": "execute_result"
    }
   ],
   "source": [
    "x, y = sp.symbols('x y')\n",
    "sp.Eq(lam*x**2+mu*y**2+ftil,0)"
   ]
  }
 ],
 "metadata": {
  "author": "Ricardo Miranda Martins",
  "kernelspec": {
   "display_name": "Python 3 (ipykernel)",
   "language": "python",
   "name": "python3"
  },
  "language_info": {
   "codemirror_mode": {
    "name": "ipython",
    "version": 3
   },
   "file_extension": ".py",
   "mimetype": "text/x-python",
   "name": "python",
   "nbconvert_exporter": "python",
   "pygments_lexer": "ipython3",
   "version": "3.9.7"
  },
  "title": "Tutorial rápido de Python para Matemáticos",
  "toc": {
   "base_numbering": 1,
   "nav_menu": {},
   "number_sections": true,
   "sideBar": true,
   "skip_h1_title": false,
   "title_cell": "Table of Contents",
   "title_sidebar": "Contents",
   "toc_cell": true,
   "toc_position": {},
   "toc_section_display": true,
   "toc_window_display": false
  }
 },
 "nbformat": 4,
 "nbformat_minor": 5
}
